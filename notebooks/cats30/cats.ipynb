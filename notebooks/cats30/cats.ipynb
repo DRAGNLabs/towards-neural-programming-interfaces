{
  "cells": [
    {
      "cell_type": "markdown",
      "metadata": {
        "colab_type": "text",
        "id": "view-in-github"
      },
      "source": [
        "<a href=\"https://colab.research.google.com/github/NancyFulda/towards-neural-programming-interfaces/blob/master/notebooks/politics/politics_colab.ipynb\" target=\"_parent\"><img src=\"https://colab.research.google.com/assets/colab-badge.svg\" alt=\"Open In Colab\"/></a>"
      ]
    },
    {
      "cell_type": "markdown",
      "metadata": {
        "id": "wDrpvhHvEiBm"
      },
      "source": [
        "# Python Notebook training NPI on Cat-Induction/Cat-Avoidance"
      ]
    },
    {
      "cell_type": "markdown",
      "metadata": {
        "id": "r2wEFrcBEiBq"
      },
      "source": [
        "## Setup\n",
        "\n",
        "### Prerequisite setup for Colab:\n",
        "\n",
        "*   Ensure you selected a runtime with a GPU. You can do that by clicking Runtime -> Change runtime type ->  Hardware Accelerator -> GPU\n",
        "*   After running the setup code in this section, restart the runtime by clicking Runtime -> Restart runtime.\n",
        "\n",
        "After you have done the prerequisite setup, you will not need to rerun this section again.\n",
        "\n",
        "### For local machines with CUDA:\n",
        "\n",
        "Run the following code if you do not have the towards-neural-programming-interfaces repo. \n",
        "If you already have the repository, make sure you ran `./install_dependencies.sh` in the repo root.\n",
        "After you done so, skip to the [Post Setup section](#post-setup)"
      ]
    },
    {
      "cell_type": "code",
      "execution_count": null,
      "metadata": {
        "id": "8tnQFi2DEqge"
      },
      "outputs": [],
      "source": [
        "!git clone https://github.com/NancyFulda/towards-neural-programming-interfaces.git\n",
        "!cd towards-neural-programming-interfaces && ./install_dependencies.sh"
      ]
    },
    {
      "cell_type": "markdown",
      "metadata": {
        "id": "7-Q2yk4kGLnX"
      },
      "source": [
        "### Post setup\n",
        "\n",
        "***Note: You will need to restart the runtime on Colab to continue***\n",
        "\n",
        "Click on Runtime -> Restart Runtime to do so.\n"
      ]
    },
    {
      "cell_type": "code",
      "execution_count": 1,
      "metadata": {
        "id": "8vYjqYt4EiBs"
      },
      "outputs": [],
      "source": [
        "# For dev purposes, enable autoreload of modules\n",
        "%load_ext autoreload"
      ]
    },
    {
      "cell_type": "code",
      "execution_count": 2,
      "metadata": {
        "id": "6AxvkhH3EiBu"
      },
      "outputs": [
        {
          "name": "stderr",
          "output_type": "stream",
          "text": [
            "/home/cs401r/.local/share/virtualenvs/towards-neural-programming-interfaces-UdnRbY7B/lib/python3.8/site-packages/tqdm/auto.py:22: TqdmWarning: IProgress not found. Please update jupyter and ipywidgets. See https://ipywidgets.readthedocs.io/en/stable/user_install.html\n",
            "  from .autonotebook import tqdm as notebook_tqdm\n"
          ]
        }
      ],
      "source": [
        "import pandas as pd\n",
        "import torch\n",
        "\n",
        "%autoreload\n",
        "\n",
        "# Constructing training dataset\n",
        "from npi.dataset import NPIDatasetConstructor, NPIDatasetLoader\n",
        "\n",
        "# Models\n",
        "from npi.models import NPITrainingModels\n",
        "\n",
        "# Training NPI\n",
        "from npi.training import NPIStyleTrainer, NPITrainer\n",
        "\n",
        "# Configuration\n",
        "from npi.config import NPIConfig\n"
      ]
    },
    {
      "cell_type": "markdown",
      "metadata": {
        "id": "PBynmrGsJqt3"
      },
      "source": [
        "Note that each step in training an NPI is conditioned on the variable toggles, so you can disable certain steps to not redo them again when running the whole notebook."
      ]
    },
    {
      "cell_type": "code",
      "execution_count": 3,
      "metadata": {
        "id": "nV6-eOMoEiBu"
      },
      "outputs": [],
      "source": [
        "# Toggle steps\n",
        "construct = True\n",
        "train_class = True\n",
        "test_class = True\n",
        "train_npi = True\n"
      ]
    },
    {
      "cell_type": "markdown",
      "metadata": {
        "id": "EPcBvsfgRRpE"
      },
      "source": [
        "Below is where an NPIConfig object is defined. It holds configuration for the NPI that you can use for the different NPI training steps. Notice that it is injected intothe NPITrainingModels class. That class will load the necessary models using the configuration defined in NPIConfig."
      ]
    },
    {
      "cell_type": "code",
      "execution_count": 10,
      "metadata": {
        "id": "Xr_mUYVNEiBv"
      },
      "outputs": [],
      "source": [
        "model_layers = [5, 11]\n",
        "\n",
        "device = torch.device(f\"cuda:0\")\n",
        "config_induction = NPIConfig(\n",
        "    device,\n",
        "    gpt_model=\"gpt2\",\n",
        "    perturbation_indices=model_layers,\n",
        "    npi_name=\"cat_induction\",\n",
        "    window_size=30\n",
        ")\n"
      ]
    },
    {
      "cell_type": "code",
      "execution_count": 11,
      "metadata": {
        "id": "J8qQUlUbEiBz"
      },
      "outputs": [],
      "source": [
        "# Initialize models for training and testing\n",
        "models = NPITrainingModels(\n",
        "    config_induction,\n",
        ")"
      ]
    },
    {
      "cell_type": "markdown",
      "metadata": {
        "id": "SdqqaFZCEiBv"
      },
      "source": [
        "## Create Dataset"
      ]
    },
    {
      "cell_type": "code",
      "execution_count": 6,
      "metadata": {
        "id": "9YubiuraEiBx"
      },
      "outputs": [
        {
          "name": "stdout",
          "output_type": "stream",
          "text": [
            "Using cuda:0\n",
            "gpu_device is cuda:1\n",
            "and so it begins\n",
            "iterations: 1; target words data: 0/500, generic data: 1/500, data written: 1\n",
            "iterations: 51; target words data: 13/500, generic data: 15/500, data written: 28\n",
            "iterations: 101; target words data: 33/500, generic data: 37/500, data written: 70\n",
            "iterations: 151; target words data: 49/500, generic data: 59/500, data written: 108\n",
            "iterations: 201; target words data: 65/500, generic data: 77/500, data written: 142\n",
            "iterations: 251; target words data: 80/500, generic data: 97/500, data written: 177\n",
            "iterations: 301; target words data: 98/500, generic data: 112/500, data written: 210\n",
            "iterations: 351; target words data: 115/500, generic data: 139/500, data written: 254\n",
            "iterations: 401; target words data: 132/500, generic data: 158/500, data written: 290\n",
            "iterations: 451; target words data: 151/500, generic data: 182/500, data written: 333\n",
            "iterations: 501; target words data: 166/500, generic data: 198/500, data written: 364\n",
            "iterations: 551; target words data: 180/500, generic data: 217/500, data written: 397\n",
            "iterations: 601; target words data: 192/500, generic data: 231/500, data written: 423\n",
            "iterations: 651; target words data: 214/500, generic data: 254/500, data written: 468\n",
            "iterations: 701; target words data: 226/500, generic data: 272/500, data written: 498\n",
            "iterations: 751; target words data: 241/500, generic data: 290/500, data written: 531\n",
            "iterations: 801; target words data: 264/500, generic data: 315/500, data written: 579\n",
            "iterations: 851; target words data: 281/500, generic data: 338/500, data written: 619\n",
            "iterations: 901; target words data: 293/500, generic data: 351/500, data written: 644\n",
            "iterations: 951; target words data: 308/500, generic data: 366/500, data written: 674\n",
            "iterations: 1001; target words data: 329/500, generic data: 390/500, data written: 719\n",
            "iterations: 1051; target words data: 340/500, generic data: 409/500, data written: 749\n",
            "iterations: 1101; target words data: 361/500, generic data: 431/500, data written: 792\n",
            "iterations: 1151; target words data: 380/500, generic data: 455/500, data written: 835\n",
            "iterations: 1201; target words data: 388/500, generic data: 466/500, data written: 854\n",
            "iterations: 1251; target words data: 404/500, generic data: 483/500, data written: 887\n",
            "iterations: 1301; target words data: 414/500, generic data: 497/500, data written: 911\n",
            "iterations: 1351; target words data: 431/500, generic data: 517/500, data written: 948\n",
            "iterations: 1401; target words data: 448/500, generic data: 534/500, data written: 982\n",
            " \n",
            "done\n"
          ]
        }
      ],
      "source": [
        "if construct:\n",
        "    construct_data = NPIDatasetConstructor(config_induction)\n",
        "    construct_data.construct_target_word_dataset(\"../../smaller_wiki_books_reddit_shuffled.txt\", num_sentences=1000) \n"
      ]
    },
    {
      "cell_type": "markdown",
      "metadata": {
        "id": "yXWpcynGEiBx"
      },
      "source": [
        "## Train classifier from Dataset\n",
        "\n"
      ]
    },
    {
      "cell_type": "code",
      "execution_count": 6,
      "metadata": {
        "id": "QgooQZnZEiBy"
      },
      "outputs": [
        {
          "name": "stdout",
          "output_type": "stream",
          "text": [
            "Classifier INIT\n",
            "Defining classifier model\n",
            "Initializing class loss\n",
            "Training\n"
          ]
        },
        {
          "name": "stderr",
          "output_type": "stream",
          "text": [
            "epoch: 0 train_loss=45848929.92 test_loss=33577788.64 test_accuracy=0.90:  99%|█████████▉| 148/149 [04:16<00:01,  1.63s/it]"
          ]
        },
        {
          "name": "stdout",
          "output_type": "stream",
          "text": [
            "Saving Style Classifier epoch 0\n"
          ]
        },
        {
          "name": "stderr",
          "output_type": "stream",
          "text": [
            "                                                                                                                           "
          ]
        },
        {
          "name": "stdout",
          "output_type": "stream",
          "text": [
            "Saving Style Classifier epoch 4\n",
            "Epoch train loss history ==  [45771545.346666664, 18879528.903333332, 8118781.3878125, 4112119.1792708333, 2076281.8986458334]\n"
          ]
        },
        {
          "name": "stderr",
          "output_type": "stream",
          "text": [
            "\r"
          ]
        }
      ],
      "source": [
        "model_loader = NPITrainingModels(config_induction)\n",
        "dataset_loader = NPIDatasetLoader(config_induction, target=\"style\")\n",
        "style_trainer = NPIStyleTrainer(config_induction, class_lr=1e-5)\n",
        "classifier = None\n",
        "if train_class:\n",
        "    classifier = style_trainer.train_classifier(\n",
        "        model_loader,\n",
        "        dataset_loader,\n",
        "        num_epochs=5,\n",
        "        #continue_epoch=4,  # Set epoch of classifier to load to continue training.\n",
        "    )\n"
      ]
    },
    {
      "cell_type": "markdown",
      "metadata": {
        "id": "jz2o83DCEiBy"
      },
      "source": [
        "### Test Classifier\n"
      ]
    },
    {
      "cell_type": "code",
      "execution_count": 6,
      "metadata": {
        "colab": {
          "base_uri": "https://localhost:8080/"
        },
        "id": "EkTIcEWnEiBy",
        "outputId": "6e4a0893-7994-4113-ca95-e086a56f7a67"
      },
      "outputs": [
        {
          "ename": "NameError",
          "evalue": "name 'dataset_loader' is not defined",
          "output_type": "error",
          "traceback": [
            "\u001b[0;31m---------------------------------------------------------------------------\u001b[0m",
            "\u001b[0;31mNameError\u001b[0m                                 Traceback (most recent call last)",
            "\u001b[1;32m/home/cs401r/towards-neural-programming-interfaces/notebooks/cats30/cats.ipynb Cell 18'\u001b[0m in \u001b[0;36m<module>\u001b[0;34m\u001b[0m\n\u001b[0;32m----> <a href='vscode-notebook-cell://ssh-remote%2Broc/home/cs401r/towards-neural-programming-interfaces/notebooks/cats30/cats.ipynb#ch0000017vscode-remote?line=0'>1</a>\u001b[0m _, test_loader, _, _ \u001b[39m=\u001b[39m dataset_loader\u001b[39m.\u001b[39mload_train_and_test_dataloaders()\n\u001b[1;32m      <a href='vscode-notebook-cell://ssh-remote%2Broc/home/cs401r/towards-neural-programming-interfaces/notebooks/cats30/cats.ipynb#ch0000017vscode-remote?line=2'>3</a>\u001b[0m classifier \u001b[39m=\u001b[39m model_loader\u001b[39m.\u001b[39mload_style_classifier() \u001b[39mif\u001b[39;00m \u001b[39mnot\u001b[39;00m classifier \u001b[39melse\u001b[39;00m classifier\n\u001b[1;32m      <a href='vscode-notebook-cell://ssh-remote%2Broc/home/cs401r/towards-neural-programming-interfaces/notebooks/cats30/cats.ipynb#ch0000017vscode-remote?line=3'>4</a>\u001b[0m \u001b[39m# When output=True, it will log the following in models/npi_models/style_classifier_output.log:\u001b[39;00m\n\u001b[1;32m      <a href='vscode-notebook-cell://ssh-remote%2Broc/home/cs401r/towards-neural-programming-interfaces/notebooks/cats30/cats.ipynb#ch0000017vscode-remote?line=4'>5</a>\u001b[0m \u001b[39m#   (generated text from the dataset)\u001b[39;00m\n\u001b[1;32m      <a href='vscode-notebook-cell://ssh-remote%2Broc/home/cs401r/towards-neural-programming-interfaces/notebooks/cats30/cats.ipynb#ch0000017vscode-remote?line=5'>6</a>\u001b[0m \u001b[39m#   truth={target_label} actual={model_output}\u001b[39;00m\n",
            "\u001b[0;31mNameError\u001b[0m: name 'dataset_loader' is not defined"
          ]
        }
      ],
      "source": [
        "_, test_loader, _, _ = dataset_loader.load_train_and_test_dataloaders()\n",
        "\n",
        "classifier = model_loader.load_style_classifier() if not classifier else classifier\n",
        "# When output=True, it will log the following in models/npi_models/style_classifier_output.log:\n",
        "#   (generated text from the dataset)\n",
        "#   truth={target_label} actual={model_output}\n",
        "style_trainer.test_model(test_loader, classifier, torch.nn.BCELoss(), output=True)\n"
      ]
    },
    {
      "cell_type": "markdown",
      "metadata": {
        "id": "vH-dlXcQEiBz"
      },
      "source": [
        "## Training NPI"
      ]
    },
    {
      "cell_type": "code",
      "execution_count": 6,
      "metadata": {},
      "outputs": [],
      "source": [
        "%load_ext pytorch_memlab"
      ]
    },
    {
      "cell_type": "code",
      "execution_count": 6,
      "metadata": {
        "id": "O6oi0MflEiB0"
      },
      "outputs": [
        {
          "name": "stdout",
          "output_type": "stream",
          "text": [
            "NPI INITIALIZATION\n",
            "GenerationClassifier INIT\n",
            "Defining GenerationClassifier model\n",
            "Classifier INIT\n",
            "Defining classifier model\n",
            "Loading style_model weights from models/npi_models/cat_induction_style_model_004.pth\n",
            "Initializing GPT2WithNPI model with tokenizer -- not being placed on GPU until npi loss evaluation\n",
            "Training\n"
          ]
        },
        {
          "name": "stderr",
          "output_type": "stream",
          "text": [
            "epoch:0, gen_class_loss:13802.97, npi_loss:212012.31: 100%|██████████| 187/187 [02:24<00:00,  1.31it/s]"
          ]
        },
        {
          "name": "stdout",
          "output_type": "stream",
          "text": [
            "Testing\n",
            "Saving NPI Model\n",
            "Saving GenerationClassifier Model\n"
          ]
        },
        {
          "name": "stderr",
          "output_type": "stream",
          "text": [
            "epoch:5, gen_class_loss:6857.29, npi_loss:123266.70: 100%|██████████| 187/187 [02:27<00:00,  1.31it/s] "
          ]
        },
        {
          "name": "stdout",
          "output_type": "stream",
          "text": [
            "Testing\n"
          ]
        },
        {
          "name": "stderr",
          "output_type": "stream",
          "text": [
            "                                                                                                      \r"
          ]
        },
        {
          "data": {
            "image/png": "[encoded data removed]",
            "text/plain": [
              "<Figure size 432x288 with 1 Axes>"
            ]
          },
          "metadata": {
            "needs_background": "light"
          },
          "output_type": "display_data"
        },
        {
          "data": {
            "image/png": "[encoded data removed]",
            "text/plain": [
              "<Figure size 432x288 with 1 Axes>"
            ]
          },
          "metadata": {
            "needs_background": "light"
          },
          "output_type": "display_data"
        },
        {
          "data": {
            "image/png": "[encoded data removed]",
            "text/plain": [
              "<Figure size 432x288 with 1 Axes>"
            ]
          },
          "metadata": {
            "needs_background": "light"
          },
          "output_type": "display_data"
        }
      ],
      "source": [
        "# %%mlrun \n",
        "# from pytorch_memlab import profile, set_target_gpu\n",
        "# set_target_gpu(1)\n",
        "num_epochs = 6\n",
        "split_ratio = 0.25\n",
        "batch_size = 4\n",
        "headstart = 0  # set at 0 for debugging\n",
        "\n",
        "if train_npi:\n",
        "    trainer = NPITrainer(config_induction, batch_size=batch_size, headstart=headstart)\n",
        "    dataset_loader = NPIDatasetLoader(config_induction, split_ratio=split_ratio)\n",
        "    trainer.train_adversarial_npi(models, num_epochs, dataset_loader)\n"
      ]
    },
    {
      "cell_type": "code",
      "execution_count": 7,
      "metadata": {},
      "outputs": [
        {
          "name": "stdout",
          "output_type": "stream",
          "text": [
            "Element type                                            Size  Used MEM\n",
            "-------------------------------------------------------------------------------\n",
            "Storage on cuda:1\n",
            "npi_model.first_linear.0.weight                (150, 460800)   263.67M\n",
            "npi_model.first_linear.0.weight.grad           (150, 460800)   263.67M\n",
            "npi_model.first_linear.0.bias                         (150,)     1.00K\n",
            "npi_model.first_linear.0.bias.grad                    (150,)     1.00K\n",
            "npi_model.second_linear.0.weight                  (150, 150)    88.00K\n",
            "npi_model.second_linear.0.weight.grad             (150, 150)    88.00K\n",
            "npi_model.second_linear.0.bias                        (150,)     1.00K\n",
            "npi_model.second_linear.0.bias.grad                   (150,)     1.00K\n",
            "npi_model.third_linear.0.weight                    (75, 150)    44.00K\n",
            "npi_model.third_linear.0.weight.grad               (75, 150)    44.00K\n",
            "npi_model.third_linear.0.bias                          (75,)   512.00B\n",
            "npi_model.third_linear.0.bias.grad                     (75,)   512.00B\n",
            "npi_model.fourth_linear.0.weight                    (75, 75)    22.00K\n",
            "npi_model.fourth_linear.0.weight.grad               (75, 75)    22.00K\n",
            "npi_model.fourth_linear.0.bias                         (75,)   512.00B\n",
            "npi_model.fourth_linear.0.bias.grad                    (75,)   512.00B\n",
            "npi_model.fourth_linear_residual.0.weight            (75, 75)    22.00K\n",
            "npi_model.fourth_linear_residual.0.weight.grad            (75, 75)    22.00K\n",
            "npi_model.fourth_linear_residual.0.bias                (75,)   512.00B\n",
            "npi_model.fourth_linear_residual.0.bias.grad               (75,)   512.00B\n",
            "npi_model.fifth_linear.0.weight                     (75, 75)    22.00K\n",
            "npi_model.fifth_linear.0.weight.grad                (75, 75)    22.00K\n",
            "npi_model.fifth_linear.0.bias                          (75,)   512.00B\n",
            "npi_model.fifth_linear.0.bias.grad                     (75,)   512.00B\n",
            "npi_model.sixth_linear.0.weight                    (150, 75)    44.00K\n",
            "npi_model.sixth_linear.0.weight.grad               (150, 75)    44.00K\n",
            "npi_model.sixth_linear.0.bias                         (150,)     1.00K\n",
            "npi_model.sixth_linear.0.bias.grad                    (150,)     1.00K\n",
            "npi_model.seventh_linear.0.weight                 (150, 150)    88.00K\n",
            "npi_model.seventh_linear.0.weight.grad            (150, 150)    88.00K\n",
            "npi_model.seventh_linear.0.bias                       (150,)     1.00K\n",
            "npi_model.seventh_linear.0.bias.grad                  (150,)     1.00K\n",
            "npi_model.last_linear.0.weight                 (460800, 150)   263.67M\n",
            "npi_model.last_linear.0.weight.grad            (460800, 150)   263.67M\n",
            "npi_model.last_linear.0.bias                       (460800,)     1.76M\n",
            "npi_model.last_linear.0.bias.grad                  (460800,)     1.76M\n",
            "Parameter320                                    (75, 460800)   131.84M\n",
            "Parameter320.grad                               (75, 460800)   131.84M\n",
            "Parameter321                                           (75,)   512.00B\n",
            "Parameter321.grad                                      (75,)   512.00B\n",
            "Parameter322                                        (75, 75)    22.00K\n",
            "Parameter322.grad                                   (75, 75)    22.00K\n",
            "Parameter323                                           (75,)   512.00B\n",
            "Parameter323.grad                                      (75,)   512.00B\n",
            "Parameter324                                        (37, 75)    11.00K\n",
            "Parameter324.grad                                   (37, 75)    11.00K\n",
            "Parameter325                                           (37,)   512.00B\n",
            "Parameter325.grad                                      (37,)   512.00B\n",
            "Parameter326                                        (37, 37)     5.50K\n",
            "Parameter326.grad                                   (37, 37)     5.50K\n",
            "Parameter327                                           (37,)   512.00B\n",
            "Parameter327.grad                                      (37,)   512.00B\n",
            "Parameter328                                        (18, 37)     3.00K\n",
            "Parameter328.grad                                   (18, 37)     3.00K\n",
            "Parameter329                                           (18,)   512.00B\n",
            "Parameter329.grad                                      (18,)   512.00B\n",
            "Parameter330                                        (18, 18)     1.50K\n",
            "Parameter330.grad                                   (18, 18)     1.50K\n",
            "Parameter331                                           (18,)   512.00B\n",
            "Parameter331.grad                                      (18,)   512.00B\n",
            "Parameter332                                         (1, 18)   512.00B\n",
            "Parameter332.grad                                    (1, 18)   512.00B\n",
            "Parameter333                                            (1,)   512.00B\n",
            "Parameter333.grad                                       (1,)   512.00B\n",
            "Parameter334                                    (37, 460800)    65.04M\n",
            "Parameter334.grad                               (37, 460800)    65.04M\n",
            "Parameter335                                           (37,)   512.00B\n",
            "Parameter335.grad                                      (37,)   512.00B\n",
            "Parameter336                                        (18, 37)     3.00K\n",
            "Parameter336.grad                                   (18, 37)     3.00K\n",
            "Parameter337                                           (18,)   512.00B\n",
            "Parameter337.grad                                      (18,)   512.00B\n",
            "Parameter338                                         (9, 18)     1.00K\n",
            "Parameter338.grad                                    (9, 18)     1.00K\n",
            "Parameter339                                            (9,)   512.00B\n",
            "Parameter339.grad                                       (9,)   512.00B\n",
            "Parameter340                                          (1, 9)   512.00B\n",
            "Parameter340.grad                                     (1, 9)   512.00B\n",
            "Parameter341                                            (1,)   512.00B\n",
            "Parameter341.grad                                       (1,)   512.00B\n",
            "transformer.wte.weight                          (50257, 768)   147.24M\n",
            "transformer.wte.weight.grad                     (50257, 768)   147.24M\n",
            "transformer.wpe.weight                           (1024, 768)     3.00M\n",
            "transformer.wpe.weight.grad                      (1024, 768)     3.00M\n",
            "transformer.ln_f.weight                               (768,)     3.00K\n",
            "transformer.ln_f.bias                                 (768,)     3.00K\n",
            "transformer.h.11.ln_1.weight                          (768,)     3.00K\n",
            "transformer.h.11.ln_1.bias                            (768,)     3.00K\n",
            "transformer.h.11.ln_2.weight                          (768,)     3.00K\n",
            "transformer.h.11.ln_2.bias                            (768,)     3.00K\n",
            "transformer.h.11.attn.c_attn.weight              (768, 2304)     6.75M\n",
            "transformer.h.11.attn.c_attn.bias                    (2304,)     9.00K\n",
            "transformer.h.11.attn.c_proj.weight               (768, 768)     2.25M\n",
            "transformer.h.11.attn.c_proj.bias                     (768,)     3.00K\n",
            "transformer.h.11.mlp.c_fc.weight                 (768, 3072)     9.00M\n",
            "transformer.h.11.mlp.c_fc.bias                       (3072,)    12.00K\n",
            "transformer.h.11.mlp.c_proj.weight               (3072, 768)     9.00M\n",
            "transformer.h.11.mlp.c_proj.bias                      (768,)     3.00K\n",
            "lm_head.weight                                  (50257, 768)   147.24M\n",
            "transformer.h.0.ln_1.weight                           (768,)     3.00K\n",
            "transformer.h.0.ln_1.weight.grad                      (768,)     3.00K\n",
            "transformer.h.0.ln_1.bias                             (768,)     3.00K\n",
            "transformer.h.0.ln_1.bias.grad                        (768,)     3.00K\n",
            "transformer.h.0.ln_2.weight                           (768,)     3.00K\n",
            "transformer.h.0.ln_2.weight.grad                      (768,)     3.00K\n",
            "transformer.h.0.ln_2.bias                             (768,)     3.00K\n",
            "transformer.h.0.ln_2.bias.grad                        (768,)     3.00K\n",
            "transformer.h.1.ln_1.weight                           (768,)     3.00K\n",
            "transformer.h.1.ln_1.weight.grad                      (768,)     3.00K\n",
            "transformer.h.1.ln_1.bias                             (768,)     3.00K\n",
            "transformer.h.1.ln_1.bias.grad                        (768,)     3.00K\n",
            "transformer.h.1.ln_2.weight                           (768,)     3.00K\n",
            "transformer.h.1.ln_2.weight.grad                      (768,)     3.00K\n",
            "transformer.h.1.ln_2.bias                             (768,)     3.00K\n",
            "transformer.h.1.ln_2.bias.grad                        (768,)     3.00K\n",
            "transformer.h.2.ln_1.weight                           (768,)     3.00K\n",
            "transformer.h.2.ln_1.weight.grad                      (768,)     3.00K\n",
            "transformer.h.2.ln_1.bias                             (768,)     3.00K\n",
            "transformer.h.2.ln_1.bias.grad                        (768,)     3.00K\n",
            "transformer.h.2.ln_2.weight                           (768,)     3.00K\n",
            "transformer.h.2.ln_2.weight.grad                      (768,)     3.00K\n",
            "transformer.h.2.ln_2.bias                             (768,)     3.00K\n",
            "transformer.h.2.ln_2.bias.grad                        (768,)     3.00K\n",
            "transformer.h.3.ln_1.weight                           (768,)     3.00K\n",
            "transformer.h.3.ln_1.weight.grad                      (768,)     3.00K\n",
            "transformer.h.3.ln_1.bias                             (768,)     3.00K\n",
            "transformer.h.3.ln_1.bias.grad                        (768,)     3.00K\n",
            "transformer.h.3.ln_2.weight                           (768,)     3.00K\n",
            "transformer.h.3.ln_2.weight.grad                      (768,)     3.00K\n",
            "transformer.h.3.ln_2.bias                             (768,)     3.00K\n",
            "transformer.h.3.ln_2.bias.grad                        (768,)     3.00K\n",
            "transformer.h.4.ln_1.weight                           (768,)     3.00K\n",
            "transformer.h.4.ln_1.weight.grad                      (768,)     3.00K\n",
            "transformer.h.4.ln_1.bias                             (768,)     3.00K\n",
            "transformer.h.4.ln_1.bias.grad                        (768,)     3.00K\n",
            "transformer.h.4.ln_2.weight                           (768,)     3.00K\n",
            "transformer.h.4.ln_2.weight.grad                      (768,)     3.00K\n",
            "transformer.h.4.ln_2.bias                             (768,)     3.00K\n",
            "transformer.h.4.ln_2.bias.grad                        (768,)     3.00K\n",
            "transformer.h.5.ln_1.weight                           (768,)     3.00K\n",
            "transformer.h.5.ln_1.weight.grad                      (768,)     3.00K\n",
            "transformer.h.5.ln_1.bias                             (768,)     3.00K\n",
            "transformer.h.5.ln_1.bias.grad                        (768,)     3.00K\n",
            "transformer.h.5.ln_2.weight                           (768,)     3.00K\n",
            "transformer.h.5.ln_2.weight.grad                      (768,)     3.00K\n",
            "transformer.h.5.ln_2.bias                             (768,)     3.00K\n",
            "transformer.h.5.ln_2.bias.grad                        (768,)     3.00K\n",
            "transformer.h.6.ln_1.weight                           (768,)     3.00K\n",
            "transformer.h.6.ln_1.weight.grad                      (768,)     3.00K\n",
            "transformer.h.6.ln_1.bias                             (768,)     3.00K\n",
            "transformer.h.6.ln_1.bias.grad                        (768,)     3.00K\n",
            "transformer.h.6.ln_2.weight                           (768,)     3.00K\n",
            "transformer.h.6.ln_2.weight.grad                      (768,)     3.00K\n",
            "transformer.h.6.ln_2.bias                             (768,)     3.00K\n",
            "transformer.h.6.ln_2.bias.grad                        (768,)     3.00K\n",
            "transformer.h.7.ln_1.weight                           (768,)     3.00K\n",
            "transformer.h.7.ln_1.weight.grad                      (768,)     3.00K\n",
            "transformer.h.7.ln_1.bias                             (768,)     3.00K\n",
            "transformer.h.7.ln_1.bias.grad                        (768,)     3.00K\n",
            "transformer.h.7.ln_2.weight                           (768,)     3.00K\n",
            "transformer.h.7.ln_2.weight.grad                      (768,)     3.00K\n",
            "transformer.h.7.ln_2.bias                             (768,)     3.00K\n",
            "transformer.h.7.ln_2.bias.grad                        (768,)     3.00K\n",
            "transformer.h.8.ln_1.weight                           (768,)     3.00K\n",
            "transformer.h.8.ln_1.weight.grad                      (768,)     3.00K\n",
            "transformer.h.8.ln_1.bias                             (768,)     3.00K\n",
            "transformer.h.8.ln_1.bias.grad                        (768,)     3.00K\n",
            "transformer.h.8.ln_2.weight                           (768,)     3.00K\n",
            "transformer.h.8.ln_2.weight.grad                      (768,)     3.00K\n",
            "transformer.h.8.ln_2.bias                             (768,)     3.00K\n",
            "transformer.h.8.ln_2.bias.grad                        (768,)     3.00K\n",
            "transformer.h.9.ln_1.weight                           (768,)     3.00K\n",
            "transformer.h.9.ln_1.weight.grad                      (768,)     3.00K\n",
            "transformer.h.9.ln_1.bias                             (768,)     3.00K\n",
            "transformer.h.9.ln_1.bias.grad                        (768,)     3.00K\n",
            "transformer.h.9.ln_2.weight                           (768,)     3.00K\n",
            "transformer.h.9.ln_2.weight.grad                      (768,)     3.00K\n",
            "transformer.h.9.ln_2.bias                             (768,)     3.00K\n",
            "transformer.h.9.ln_2.bias.grad                        (768,)     3.00K\n",
            "transformer.h.10.ln_1.weight                          (768,)     3.00K\n",
            "transformer.h.10.ln_1.weight.grad                     (768,)     3.00K\n",
            "transformer.h.10.ln_1.bias                            (768,)     3.00K\n",
            "transformer.h.10.ln_1.bias.grad                       (768,)     3.00K\n",
            "transformer.h.10.ln_2.weight                          (768,)     3.00K\n",
            "transformer.h.10.ln_2.weight.grad                     (768,)     3.00K\n",
            "transformer.h.10.ln_2.bias                            (768,)     3.00K\n",
            "transformer.h.10.ln_2.bias.grad                       (768,)     3.00K\n",
            "transformer.h.0.attn.c_attn.weight               (768, 2304)     6.75M\n",
            "transformer.h.0.attn.c_attn.weight.grad          (768, 2304)     6.75M\n",
            "transformer.h.0.attn.c_attn.bias                     (2304,)     9.00K\n",
            "transformer.h.0.attn.c_attn.bias.grad                (2304,)     9.00K\n",
            "transformer.h.0.attn.c_proj.weight                (768, 768)     2.25M\n",
            "transformer.h.0.attn.c_proj.weight.grad           (768, 768)     2.25M\n",
            "transformer.h.0.attn.c_proj.bias                      (768,)     3.00K\n",
            "transformer.h.0.attn.c_proj.bias.grad                 (768,)     3.00K\n",
            "transformer.h.0.mlp.c_fc.weight                  (768, 3072)     9.00M\n",
            "transformer.h.0.mlp.c_fc.weight.grad             (768, 3072)     9.00M\n",
            "transformer.h.0.mlp.c_fc.bias                        (3072,)    12.00K\n",
            "transformer.h.0.mlp.c_fc.bias.grad                   (3072,)    12.00K\n",
            "transformer.h.0.mlp.c_proj.weight                (3072, 768)     9.00M\n",
            "transformer.h.0.mlp.c_proj.weight.grad           (3072, 768)     9.00M\n",
            "transformer.h.0.mlp.c_proj.bias                       (768,)     3.00K\n",
            "transformer.h.0.mlp.c_proj.bias.grad                  (768,)     3.00K\n",
            "transformer.h.1.attn.c_attn.weight               (768, 2304)     6.75M\n",
            "transformer.h.1.attn.c_attn.weight.grad          (768, 2304)     6.75M\n",
            "transformer.h.1.attn.c_attn.bias                     (2304,)     9.00K\n",
            "transformer.h.1.attn.c_attn.bias.grad                (2304,)     9.00K\n",
            "transformer.h.1.attn.c_proj.weight                (768, 768)     2.25M\n",
            "transformer.h.1.attn.c_proj.weight.grad           (768, 768)     2.25M\n",
            "transformer.h.1.attn.c_proj.bias                      (768,)     3.00K\n",
            "transformer.h.1.attn.c_proj.bias.grad                 (768,)     3.00K\n",
            "transformer.h.1.mlp.c_fc.weight                  (768, 3072)     9.00M\n",
            "transformer.h.1.mlp.c_fc.weight.grad             (768, 3072)     9.00M\n",
            "transformer.h.1.mlp.c_fc.bias                        (3072,)    12.00K\n",
            "transformer.h.1.mlp.c_fc.bias.grad                   (3072,)    12.00K\n",
            "transformer.h.1.mlp.c_proj.weight                (3072, 768)     9.00M\n",
            "transformer.h.1.mlp.c_proj.weight.grad           (3072, 768)     9.00M\n",
            "transformer.h.1.mlp.c_proj.bias                       (768,)     3.00K\n",
            "transformer.h.1.mlp.c_proj.bias.grad                  (768,)     3.00K\n",
            "transformer.h.2.attn.c_attn.weight               (768, 2304)     6.75M\n",
            "transformer.h.2.attn.c_attn.weight.grad          (768, 2304)     6.75M\n",
            "transformer.h.2.attn.c_attn.bias                     (2304,)     9.00K\n",
            "transformer.h.2.attn.c_attn.bias.grad                (2304,)     9.00K\n",
            "transformer.h.2.attn.c_proj.weight                (768, 768)     2.25M\n",
            "transformer.h.2.attn.c_proj.weight.grad           (768, 768)     2.25M\n",
            "transformer.h.2.attn.c_proj.bias                      (768,)     3.00K\n",
            "transformer.h.2.attn.c_proj.bias.grad                 (768,)     3.00K\n",
            "transformer.h.2.mlp.c_fc.weight                  (768, 3072)     9.00M\n",
            "transformer.h.2.mlp.c_fc.weight.grad             (768, 3072)     9.00M\n",
            "transformer.h.2.mlp.c_fc.bias                        (3072,)    12.00K\n",
            "transformer.h.2.mlp.c_fc.bias.grad                   (3072,)    12.00K\n",
            "transformer.h.2.mlp.c_proj.weight                (3072, 768)     9.00M\n",
            "transformer.h.2.mlp.c_proj.weight.grad           (3072, 768)     9.00M\n",
            "transformer.h.2.mlp.c_proj.bias                       (768,)     3.00K\n",
            "transformer.h.2.mlp.c_proj.bias.grad                  (768,)     3.00K\n",
            "transformer.h.3.attn.c_attn.weight               (768, 2304)     6.75M\n",
            "transformer.h.3.attn.c_attn.weight.grad          (768, 2304)     6.75M\n",
            "transformer.h.3.attn.c_attn.bias                     (2304,)     9.00K\n",
            "transformer.h.3.attn.c_attn.bias.grad                (2304,)     9.00K\n",
            "transformer.h.3.attn.c_proj.weight                (768, 768)     2.25M\n",
            "transformer.h.3.attn.c_proj.weight.grad           (768, 768)     2.25M\n",
            "transformer.h.3.attn.c_proj.bias                      (768,)     3.00K\n",
            "transformer.h.3.attn.c_proj.bias.grad                 (768,)     3.00K\n",
            "transformer.h.3.mlp.c_fc.weight                  (768, 3072)     9.00M\n",
            "transformer.h.3.mlp.c_fc.weight.grad             (768, 3072)     9.00M\n",
            "transformer.h.3.mlp.c_fc.bias                        (3072,)    12.00K\n",
            "transformer.h.3.mlp.c_fc.bias.grad                   (3072,)    12.00K\n",
            "transformer.h.3.mlp.c_proj.weight                (3072, 768)     9.00M\n",
            "transformer.h.3.mlp.c_proj.weight.grad           (3072, 768)     9.00M\n",
            "transformer.h.3.mlp.c_proj.bias                       (768,)     3.00K\n",
            "transformer.h.3.mlp.c_proj.bias.grad                  (768,)     3.00K\n",
            "transformer.h.4.attn.c_attn.weight               (768, 2304)     6.75M\n",
            "transformer.h.4.attn.c_attn.weight.grad          (768, 2304)     6.75M\n",
            "transformer.h.4.attn.c_attn.bias                     (2304,)     9.00K\n",
            "transformer.h.4.attn.c_attn.bias.grad                (2304,)     9.00K\n",
            "transformer.h.4.attn.c_proj.weight                (768, 768)     2.25M\n",
            "transformer.h.4.attn.c_proj.weight.grad           (768, 768)     2.25M\n",
            "transformer.h.4.attn.c_proj.bias                      (768,)     3.00K\n",
            "transformer.h.4.attn.c_proj.bias.grad                 (768,)     3.00K\n",
            "transformer.h.4.mlp.c_fc.weight                  (768, 3072)     9.00M\n",
            "transformer.h.4.mlp.c_fc.weight.grad             (768, 3072)     9.00M\n",
            "transformer.h.4.mlp.c_fc.bias                        (3072,)    12.00K\n",
            "transformer.h.4.mlp.c_fc.bias.grad                   (3072,)    12.00K\n",
            "transformer.h.4.mlp.c_proj.weight                (3072, 768)     9.00M\n",
            "transformer.h.4.mlp.c_proj.weight.grad           (3072, 768)     9.00M\n",
            "transformer.h.4.mlp.c_proj.bias                       (768,)     3.00K\n",
            "transformer.h.4.mlp.c_proj.bias.grad                  (768,)     3.00K\n",
            "transformer.h.5.attn.c_attn.weight               (768, 2304)     6.75M\n",
            "transformer.h.5.attn.c_attn.weight.grad          (768, 2304)     6.75M\n",
            "transformer.h.5.attn.c_attn.bias                     (2304,)     9.00K\n",
            "transformer.h.5.attn.c_attn.bias.grad                (2304,)     9.00K\n",
            "transformer.h.5.attn.c_proj.weight                (768, 768)     2.25M\n",
            "transformer.h.5.attn.c_proj.weight.grad           (768, 768)     2.25M\n",
            "transformer.h.5.attn.c_proj.bias                      (768,)     3.00K\n",
            "transformer.h.5.attn.c_proj.bias.grad                 (768,)     3.00K\n",
            "transformer.h.5.mlp.c_fc.weight                  (768, 3072)     9.00M\n",
            "transformer.h.5.mlp.c_fc.weight.grad             (768, 3072)     9.00M\n",
            "transformer.h.5.mlp.c_fc.bias                        (3072,)    12.00K\n",
            "transformer.h.5.mlp.c_fc.bias.grad                   (3072,)    12.00K\n",
            "transformer.h.5.mlp.c_proj.weight                (3072, 768)     9.00M\n",
            "transformer.h.5.mlp.c_proj.weight.grad           (3072, 768)     9.00M\n",
            "transformer.h.5.mlp.c_proj.bias                       (768,)     3.00K\n",
            "transformer.h.5.mlp.c_proj.bias.grad                  (768,)     3.00K\n",
            "transformer.h.6.attn.c_attn.weight               (768, 2304)     6.75M\n",
            "transformer.h.6.attn.c_attn.weight.grad          (768, 2304)     6.75M\n",
            "transformer.h.6.attn.c_attn.bias                     (2304,)     9.00K\n",
            "transformer.h.6.attn.c_attn.bias.grad                (2304,)     9.00K\n",
            "transformer.h.6.attn.c_proj.weight                (768, 768)     2.25M\n",
            "transformer.h.6.attn.c_proj.weight.grad           (768, 768)     2.25M\n",
            "transformer.h.6.attn.c_proj.bias                      (768,)     3.00K\n",
            "transformer.h.6.attn.c_proj.bias.grad                 (768,)     3.00K\n",
            "transformer.h.6.mlp.c_fc.weight                  (768, 3072)     9.00M\n",
            "transformer.h.6.mlp.c_fc.weight.grad             (768, 3072)     9.00M\n",
            "transformer.h.6.mlp.c_fc.bias                        (3072,)    12.00K\n",
            "transformer.h.6.mlp.c_fc.bias.grad                   (3072,)    12.00K\n",
            "transformer.h.6.mlp.c_proj.weight                (3072, 768)     9.00M\n",
            "transformer.h.6.mlp.c_proj.weight.grad           (3072, 768)     9.00M\n",
            "transformer.h.6.mlp.c_proj.bias                       (768,)     3.00K\n",
            "transformer.h.6.mlp.c_proj.bias.grad                  (768,)     3.00K\n",
            "transformer.h.7.attn.c_attn.weight               (768, 2304)     6.75M\n",
            "transformer.h.7.attn.c_attn.weight.grad          (768, 2304)     6.75M\n",
            "transformer.h.7.attn.c_attn.bias                     (2304,)     9.00K\n",
            "transformer.h.7.attn.c_attn.bias.grad                (2304,)     9.00K\n",
            "transformer.h.7.attn.c_proj.weight                (768, 768)     2.25M\n",
            "transformer.h.7.attn.c_proj.weight.grad           (768, 768)     2.25M\n",
            "transformer.h.7.attn.c_proj.bias                      (768,)     3.00K\n",
            "transformer.h.7.attn.c_proj.bias.grad                 (768,)     3.00K\n",
            "transformer.h.7.mlp.c_fc.weight                  (768, 3072)     9.00M\n",
            "transformer.h.7.mlp.c_fc.weight.grad             (768, 3072)     9.00M\n",
            "transformer.h.7.mlp.c_fc.bias                        (3072,)    12.00K\n",
            "transformer.h.7.mlp.c_fc.bias.grad                   (3072,)    12.00K\n",
            "transformer.h.7.mlp.c_proj.weight                (3072, 768)     9.00M\n",
            "transformer.h.7.mlp.c_proj.weight.grad           (3072, 768)     9.00M\n",
            "transformer.h.7.mlp.c_proj.bias                       (768,)     3.00K\n",
            "transformer.h.7.mlp.c_proj.bias.grad                  (768,)     3.00K\n",
            "transformer.h.8.attn.c_attn.weight               (768, 2304)     6.75M\n",
            "transformer.h.8.attn.c_attn.weight.grad          (768, 2304)     6.75M\n",
            "transformer.h.8.attn.c_attn.bias                     (2304,)     9.00K\n",
            "transformer.h.8.attn.c_attn.bias.grad                (2304,)     9.00K\n",
            "transformer.h.8.attn.c_proj.weight                (768, 768)     2.25M\n",
            "transformer.h.8.attn.c_proj.weight.grad           (768, 768)     2.25M\n",
            "transformer.h.8.attn.c_proj.bias                      (768,)     3.00K\n",
            "transformer.h.8.attn.c_proj.bias.grad                 (768,)     3.00K\n",
            "transformer.h.8.mlp.c_fc.weight                  (768, 3072)     9.00M\n",
            "transformer.h.8.mlp.c_fc.weight.grad             (768, 3072)     9.00M\n",
            "transformer.h.8.mlp.c_fc.bias                        (3072,)    12.00K\n",
            "transformer.h.8.mlp.c_fc.bias.grad                   (3072,)    12.00K\n",
            "transformer.h.8.mlp.c_proj.weight                (3072, 768)     9.00M\n",
            "transformer.h.8.mlp.c_proj.weight.grad           (3072, 768)     9.00M\n",
            "transformer.h.8.mlp.c_proj.bias                       (768,)     3.00K\n",
            "transformer.h.8.mlp.c_proj.bias.grad                  (768,)     3.00K\n",
            "transformer.h.9.attn.c_attn.weight               (768, 2304)     6.75M\n",
            "transformer.h.9.attn.c_attn.weight.grad          (768, 2304)     6.75M\n",
            "transformer.h.9.attn.c_attn.bias                     (2304,)     9.00K\n",
            "transformer.h.9.attn.c_attn.bias.grad                (2304,)     9.00K\n",
            "transformer.h.9.attn.c_proj.weight                (768, 768)     2.25M\n",
            "transformer.h.9.attn.c_proj.weight.grad           (768, 768)     2.25M\n",
            "transformer.h.9.attn.c_proj.bias                      (768,)     3.00K\n",
            "transformer.h.9.attn.c_proj.bias.grad                 (768,)     3.00K\n",
            "transformer.h.9.mlp.c_fc.weight                  (768, 3072)     9.00M\n",
            "transformer.h.9.mlp.c_fc.weight.grad             (768, 3072)     9.00M\n",
            "transformer.h.9.mlp.c_fc.bias                        (3072,)    12.00K\n",
            "transformer.h.9.mlp.c_fc.bias.grad                   (3072,)    12.00K\n",
            "transformer.h.9.mlp.c_proj.weight                (3072, 768)     9.00M\n",
            "transformer.h.9.mlp.c_proj.weight.grad           (3072, 768)     9.00M\n",
            "transformer.h.9.mlp.c_proj.bias                       (768,)     3.00K\n",
            "transformer.h.9.mlp.c_proj.bias.grad                  (768,)     3.00K\n",
            "transformer.h.10.attn.c_attn.weight              (768, 2304)     6.75M\n",
            "transformer.h.10.attn.c_attn.weight.grad         (768, 2304)     6.75M\n",
            "transformer.h.10.attn.c_attn.bias                    (2304,)     9.00K\n",
            "transformer.h.10.attn.c_attn.bias.grad               (2304,)     9.00K\n",
            "transformer.h.10.attn.c_proj.weight               (768, 768)     2.25M\n",
            "transformer.h.10.attn.c_proj.weight.grad          (768, 768)     2.25M\n",
            "transformer.h.10.attn.c_proj.bias                     (768,)     3.00K\n",
            "transformer.h.10.attn.c_proj.bias.grad                (768,)     3.00K\n",
            "transformer.h.10.mlp.c_fc.weight                 (768, 3072)     9.00M\n",
            "transformer.h.10.mlp.c_fc.weight.grad            (768, 3072)     9.00M\n",
            "transformer.h.10.mlp.c_fc.bias                       (3072,)    12.00K\n",
            "transformer.h.10.mlp.c_fc.bias.grad                  (3072,)    12.00K\n",
            "transformer.h.10.mlp.c_proj.weight               (3072, 768)     9.00M\n",
            "transformer.h.10.mlp.c_proj.weight.grad          (3072, 768)     9.00M\n",
            "transformer.h.10.mlp.c_proj.bias                      (768,)     3.00K\n",
            "transformer.h.10.mlp.c_proj.bias.grad                 (768,)     3.00K\n",
            "Tensor342                                 (1, 1, 1024, 1024)     4.00M\n",
            "Tensor343                                 (1, 1, 1024, 1024)     4.00M\n",
            "Tensor344                                 (1, 1, 1024, 1024)     4.00M\n",
            "Tensor345                                 (1, 1, 1024, 1024)     4.00M\n",
            "Tensor346                                 (1, 1, 1024, 1024)     4.00M\n",
            "Tensor347                                 (1, 1, 1024, 1024)     4.00M\n",
            "Tensor348                                 (1, 1, 1024, 1024)     4.00M\n",
            "Tensor349                                 (1, 1, 1024, 1024)     4.00M\n",
            "Tensor350                                 (1, 1, 1024, 1024)     4.00M\n",
            "Tensor351                                 (1, 1, 1024, 1024)     4.00M\n",
            "Tensor352                                 (1, 1, 1024, 1024)     4.00M\n",
            "Tensor353                                 (1, 1, 1024, 1024)     4.00M\n",
            "Tensor354                                       (75, 460800)   131.84M\n",
            "Tensor355                                              (75,)   512.00B\n",
            "Tensor356                                           (75, 75)    22.00K\n",
            "Tensor357                                              (75,)   512.00B\n",
            "Tensor358                                           (37, 75)    11.00K\n",
            "Tensor359                                              (37,)   512.00B\n",
            "Tensor360                                           (37, 37)     5.50K\n",
            "Tensor361                                              (37,)   512.00B\n",
            "Tensor362                                           (18, 37)     3.00K\n",
            "Tensor363                                              (18,)   512.00B\n",
            "Tensor364                                           (18, 18)     1.50K\n",
            "Tensor365                                              (18,)   512.00B\n",
            "Tensor366                                            (1, 18)   512.00B\n",
            "Tensor367                                               (1,)   512.00B\n",
            "Tensor368                                      (150, 460800)   263.67M\n",
            "Tensor369                                             (150,)     1.00K\n",
            "Tensor370                                         (150, 150)    88.00K\n",
            "Tensor371                                             (150,)     1.00K\n",
            "Tensor372                                          (75, 150)    44.00K\n",
            "Tensor373                                              (75,)   512.00B\n",
            "Tensor374                                           (75, 75)    22.00K\n",
            "Tensor375                                              (75,)   512.00B\n",
            "Tensor376                                           (75, 75)    22.00K\n",
            "Tensor377                                              (75,)   512.00B\n",
            "Tensor378                                           (75, 75)    22.00K\n",
            "Tensor379                                              (75,)   512.00B\n",
            "Tensor380                                          (150, 75)    44.00K\n",
            "Tensor381                                             (150,)     1.00K\n",
            "Tensor382                                         (150, 150)    88.00K\n",
            "Tensor383                                             (150,)     1.00K\n",
            "Tensor384                                      (460800, 150)   263.67M\n",
            "Tensor385                                          (460800,)     1.76M\n",
            "Tensor386                                       (75, 460800)   131.84M\n",
            "Tensor387                                              (75,)   512.00B\n",
            "Tensor388                                           (75, 75)    22.00K\n",
            "Tensor389                                              (75,)   512.00B\n",
            "Tensor390                                           (37, 75)    11.00K\n",
            "Tensor391                                              (37,)   512.00B\n",
            "Tensor392                                           (37, 37)     5.50K\n",
            "Tensor393                                              (37,)   512.00B\n",
            "Tensor394                                           (18, 37)     3.00K\n",
            "Tensor395                                              (18,)   512.00B\n",
            "Tensor396                                           (18, 18)     1.50K\n",
            "Tensor397                                              (18,)   512.00B\n",
            "Tensor398                                            (1, 18)   512.00B\n",
            "Tensor399                                               (1,)   512.00B\n",
            "Tensor400                                      (150, 460800)   263.67M\n",
            "Tensor401                                             (150,)     1.00K\n",
            "Tensor402                                         (150, 150)    88.00K\n",
            "Tensor403                                             (150,)     1.00K\n",
            "Tensor404                                          (75, 150)    44.00K\n",
            "Tensor405                                              (75,)   512.00B\n",
            "Tensor406                                           (75, 75)    22.00K\n",
            "Tensor407                                              (75,)   512.00B\n",
            "Tensor408                                           (75, 75)    22.00K\n",
            "Tensor409                                              (75,)   512.00B\n",
            "Tensor410                                           (75, 75)    22.00K\n",
            "Tensor411                                              (75,)   512.00B\n",
            "Tensor412                                          (150, 75)    44.00K\n",
            "Tensor413                                             (150,)     1.00K\n",
            "Tensor414                                         (150, 150)    88.00K\n",
            "Tensor415                                             (150,)     1.00K\n",
            "Tensor416                                      (460800, 150)   263.67M\n",
            "Tensor417                                          (460800,)     1.76M\n",
            "-------------------------------------------------------------------------------\n",
            "Total Tensors: 1020499952 \tUsed Memory: 3.80G\n",
            "The allocated memory on cuda:1: 3.81G\n",
            "Memory differs due to the matrix alignment or invisible gradient buffer tensors\n",
            "-------------------------------------------------------------------------------\n"
          ]
        },
        {
          "name": "stderr",
          "output_type": "stream",
          "text": [
            "/home/cs401r/.local/share/virtualenvs/towards-neural-programming-interfaces-UdnRbY7B/lib/python3.8/site-packages/torch/distributed/distributed_c10d.py:102: UserWarning: torch.distributed.reduce_op is deprecated, please use torch.distributed.ReduceOp instead\n",
            "  warnings.warn(\"torch.distributed.reduce_op is deprecated, please use \"\n"
          ]
        }
      ],
      "source": [
        "from pytorch_memlab import MemReporter\n",
        "reporter = MemReporter(models.gpt2_with_npi)\n",
        "reporter.report(device=config_induction.device)"
      ]
    },
    {
      "cell_type": "markdown",
      "metadata": {
        "id": "ZwD1OEyuEiB0"
      },
      "source": [
        "## Test NPI"
      ]
    },
    {
      "cell_type": "markdown",
      "metadata": {
        "id": "M76gOLwSEiB0"
      },
      "source": [
        "Using the model loader, you can directly generate NPI text.\n"
      ]
    },
    {
      "cell_type": "code",
      "execution_count": 16,
      "metadata": {
        "colab": {
          "base_uri": "https://localhost:8080/"
        },
        "id": "-dINaz8IEiB0",
        "outputId": "6bce590f-5510-4fea-c86f-fc5752f9493f"
      },
      "outputs": [
        {
          "name": "stderr",
          "output_type": "stream",
          "text": [
            "Model: GPT 2 Vanilla: 100%|██████████| 100/100 [00:00<00:00, 119.50it/s]"
          ]
        },
        {
          "name": "stdout",
          "output_type": "stream",
          "text": [
            "\n",
            "\n",
            "Original GPT2 output: 'I hate cats. Can we talk about something else?'\n",
            "\n",
            "\n",
            "I think it's a good idea to have a lot of people who are not going to be able to afford to buy a new car.\n",
            "\n",
            "\"I'm not sure if it's a good idea to use a different method.\n",
            "\n",
            "The first step is to create a new file called \"config.json\" and add the following to your.json file:\n",
            "\n",
            "{ \" name \" : \" \", \" description \" : \" A simple, yet powerful, tool for the\n"
          ]
        },
        {
          "name": "stderr",
          "output_type": "stream",
          "text": [
            "\n"
          ]
        }
      ],
      "source": [
        "text = \"I hate cats. Can we talk about something else?\"\n",
        "print(f\"\\nOriginal GPT2 output: '{text}'\\n{models.gpt2_generate_text(text)}\")\n"
      ]
    },
    {
      "cell_type": "code",
      "execution_count": 17,
      "metadata": {
        "colab": {
          "base_uri": "https://localhost:8080/"
        },
        "id": "lqAxiIa_EiB1",
        "outputId": "94875c10-9bb7-49e6-bb89-48a3daeb79c0"
      },
      "outputs": [
        {
          "name": "stderr",
          "output_type": "stream",
          "text": [
            "Model: GPT2 with NPI: 90it [00:01, 55.16it/s]                        "
          ]
        },
        {
          "name": "stdout",
          "output_type": "stream",
          "text": [
            "\n",
            "NPI GPT2 output: 'I hate cats. Can we talk about something else?'\n",
            "\n",
            "\n",
            "I'm not sure what to say. I'm not sure what to say.\n",
            "\n",
            "I'm not sure what to say.\n",
            "\n",
            "I'm not sure what to say.\n",
            "\n",
            "I'm not sure what to say.\n",
            "\n",
            "I'm not sure what to say.\n",
            "\n",
            "I'm not sure what to say.\n",
            "\n",
            "I'm not sure what to say.\n",
            "\n",
            "I'm not sure what to say.\n",
            "\n",
            "I'm not sure what to say.\n",
            "\n",
            "I'm not sure what to say.\n",
            "\n"
          ]
        },
        {
          "name": "stderr",
          "output_type": "stream",
          "text": [
            "\n"
          ]
        }
      ],
      "source": [
        "text = \"I hate cats. Can we talk about something else?\"\n",
        "\n",
        "print(f\"\\nNPI GPT2 output: '{text}'\\n{models.npi_generate_text(text)}\")"
      ]
    }
  ],
  "metadata": {
    "accelerator": "GPU",
    "colab": {
      "include_colab_link": true,
      "name": "politics.ipynb",
      "provenance": []
    },
    "interpreter": {
      "hash": "b53feeeef0abc6b71390ce5a6fde0c401718055bbb2d86de1b9dab62a8ba524e"
    },
    "kernelspec": {
      "display_name": "Python 3.8.0 64-bit ('towards-neural-programming-interfaces-UdnRbY7B': pipenv)",
      "language": "python",
      "name": "python3"
    },
    "language_info": {
      "codemirror_mode": {
        "name": "ipython",
        "version": 3
      },
      "file_extension": ".py",
      "mimetype": "text/x-python",
      "name": "python",
      "nbconvert_exporter": "python",
      "pygments_lexer": "ipython3",
      "version": "3.8.0"
    },
    "orig_nbformat": 4
  },
  "nbformat": 4,
  "nbformat_minor": 0
}
