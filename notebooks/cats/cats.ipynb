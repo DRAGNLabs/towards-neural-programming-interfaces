{
  "cells": [
    {
      "cell_type": "markdown",
      "metadata": {
        "colab_type": "text",
        "id": "view-in-github"
      },
      "source": [
        "<a href=\"https://colab.research.google.com/github/NancyFulda/towards-neural-programming-interfaces/blob/master/notebooks/politics/politics_colab.ipynb\" target=\"_parent\"><img src=\"https://colab.research.google.com/assets/colab-badge.svg\" alt=\"Open In Colab\"/></a>"
      ]
    },
    {
      "cell_type": "markdown",
      "metadata": {
        "id": "wDrpvhHvEiBm"
      },
      "source": [
        "# Python Notebook training NPI on Cat-Induction/Cat-Avoidance"
      ]
    },
    {
      "cell_type": "markdown",
      "metadata": {
        "id": "r2wEFrcBEiBq"
      },
      "source": [
        "## Setup\n",
        "\n",
        "### Prerequisite setup for Colab:\n",
        "\n",
        "*   Ensure you selected a runtime with a GPU. You can do that by clicking Runtime -> Change runtime type ->  Hardware Accelerator -> GPU\n",
        "*   After running the setup code in this section, restart the runtime by clicking Runtime -> Restart runtime.\n",
        "\n",
        "After you have done the prerequisite setup, you will not need to rerun this section again.\n",
        "\n",
        "### For local machines with CUDA:\n",
        "\n",
        "Run the following code if you do not have the towards-neural-programming-interfaces repo. \n",
        "If you already have the repository, make sure you ran `./install_dependencies.sh` in the repo root.\n",
        "After you done so, skip to the [Post Setup section](#post-setup)"
      ]
    },
    {
      "cell_type": "code",
      "execution_count": null,
      "metadata": {
        "id": "8tnQFi2DEqge"
      },
      "outputs": [],
      "source": [
        "!git clone https://github.com/NancyFulda/towards-neural-programming-interfaces.git\n",
        "!cd towards-neural-programming-interfaces && ./install_dependencies.sh"
      ]
    },
    {
      "cell_type": "markdown",
      "metadata": {
        "id": "7-Q2yk4kGLnX"
      },
      "source": [
        "### Post setup\n",
        "\n",
        "***Note: You will need to restart the runtime on Colab to continue***\n",
        "\n",
        "Click on Runtime -> Restart Runtime to do so.\n"
      ]
    },
    {
      "cell_type": "code",
      "execution_count": 1,
      "metadata": {
        "id": "8vYjqYt4EiBs"
      },
      "outputs": [],
      "source": [
        "# For dev purposes, enable autoreload of modules\n",
        "%load_ext autoreload"
      ]
    },
    {
      "cell_type": "code",
      "execution_count": 2,
      "metadata": {
        "id": "6AxvkhH3EiBu"
      },
      "outputs": [
        {
          "name": "stderr",
          "output_type": "stream",
          "text": [
            "/home/cs401r/.local/share/virtualenvs/towards-neural-programming-interfaces-UdnRbY7B/lib/python3.8/site-packages/tqdm/auto.py:22: TqdmWarning: IProgress not found. Please update jupyter and ipywidgets. See https://ipywidgets.readthedocs.io/en/stable/user_install.html\n",
            "  from .autonotebook import tqdm as notebook_tqdm\n"
          ]
        }
      ],
      "source": [
        "import pandas as pd\n",
        "import torch\n",
        "\n",
        "%autoreload\n",
        "\n",
        "# Constructing training dataset\n",
        "from npi.dataset import NPIDatasetConstructor, NPIDatasetLoader\n",
        "\n",
        "# Models\n",
        "from npi.models import NPITrainingModels\n",
        "\n",
        "# Training NPI\n",
        "from npi.training import NPIStyleTrainer, NPITrainer\n",
        "\n",
        "# Configuration\n",
        "from npi.config import NPIConfig\n"
      ]
    },
    {
      "cell_type": "markdown",
      "metadata": {
        "id": "PBynmrGsJqt3"
      },
      "source": [
        "Note that each step in training an NPI is conditioned on the variable toggles, so you can disable certain steps to not redo them again when running the whole notebook."
      ]
    },
    {
      "cell_type": "code",
      "execution_count": 3,
      "metadata": {
        "id": "nV6-eOMoEiBu"
      },
      "outputs": [],
      "source": [
        "# Toggle steps\n",
        "construct = True\n",
        "train_class = True\n",
        "test_class = True\n",
        "train_npi = True\n"
      ]
    },
    {
      "cell_type": "markdown",
      "metadata": {
        "id": "EPcBvsfgRRpE"
      },
      "source": [
        "Below is where an NPIConfig object is defined. It holds configuration for the NPI that you can use for the different NPI training steps. Notice that it is injected intothe NPITrainingModels class. That class will load the necessary models using the configuration defined in NPIConfig."
      ]
    },
    {
      "cell_type": "code",
      "execution_count": 4,
      "metadata": {
        "id": "Xr_mUYVNEiBv"
      },
      "outputs": [],
      "source": [
        "model_layers = [5, 11]\n",
        "\n",
        "device = torch.device(f\"cuda:0\")\n",
        "config_induction = NPIConfig(\n",
        "    device,\n",
        "    gpt_model=\"gpt2\",\n",
        "    perturbation_indices=model_layers,\n",
        "    npi_name=\"cat_induction\",\n",
        "    window_size=10\n",
        ")\n"
      ]
    },
    {
      "cell_type": "code",
      "execution_count": 5,
      "metadata": {
        "id": "J8qQUlUbEiBz"
      },
      "outputs": [],
      "source": [
        "# Initialize models for training and testing\n",
        "models = NPITrainingModels(\n",
        "    config_induction,\n",
        ")"
      ]
    },
    {
      "cell_type": "markdown",
      "metadata": {
        "id": "SdqqaFZCEiBv"
      },
      "source": [
        "## Create Dataset"
      ]
    },
    {
      "cell_type": "code",
      "execution_count": 8,
      "metadata": {
        "id": "9YubiuraEiBx"
      },
      "outputs": [
        {
          "name": "stdout",
          "output_type": "stream",
          "text": [
            "Using cuda:0\n",
            "gpu_device is cuda:0\n",
            "and so it begins\n",
            "iterations: 1; target words data: 0/500, generic data: 1/500, data written: 1\n",
            "iterations: 51; target words data: 9/500, generic data: 11/500, data written: 20\n",
            "iterations: 101; target words data: 18/500, generic data: 22/500, data written: 40\n",
            "iterations: 151; target words data: 26/500, generic data: 32/500, data written: 58\n",
            "iterations: 201; target words data: 37/500, generic data: 45/500, data written: 82\n",
            "iterations: 251; target words data: 45/500, generic data: 55/500, data written: 100\n",
            "iterations: 301; target words data: 57/500, generic data: 69/500, data written: 126\n",
            "iterations: 351; target words data: 68/500, generic data: 82/500, data written: 150\n",
            "iterations: 401; target words data: 77/500, generic data: 93/500, data written: 170\n",
            "iterations: 451; target words data: 82/500, generic data: 99/500, data written: 181\n",
            "iterations: 501; target words data: 87/500, generic data: 105/500, data written: 192\n",
            "iterations: 551; target words data: 97/500, generic data: 117/500, data written: 214\n",
            "iterations: 601; target words data: 106/500, generic data: 128/500, data written: 234\n",
            "iterations: 651; target words data: 116/500, generic data: 139/500, data written: 255\n",
            "iterations: 701; target words data: 127/500, generic data: 153/500, data written: 280\n",
            "iterations: 751; target words data: 135/500, generic data: 161/500, data written: 296\n",
            "iterations: 801; target words data: 146/500, generic data: 175/500, data written: 321\n",
            "iterations: 851; target words data: 152/500, generic data: 183/500, data written: 335\n",
            "iterations: 901; target words data: 161/500, generic data: 192/500, data written: 353\n",
            "iterations: 951; target words data: 166/500, generic data: 200/500, data written: 366\n",
            "iterations: 1001; target words data: 172/500, generic data: 207/500, data written: 379\n",
            "iterations: 1051; target words data: 177/500, generic data: 213/500, data written: 390\n",
            "iterations: 1101; target words data: 184/500, generic data: 220/500, data written: 404\n",
            "iterations: 1151; target words data: 199/500, generic data: 239/500, data written: 438\n",
            "iterations: 1201; target words data: 211/500, generic data: 254/500, data written: 465\n",
            "iterations: 1251; target words data: 218/500, generic data: 262/500, data written: 480\n",
            "iterations: 1301; target words data: 231/500, generic data: 278/500, data written: 509\n",
            "iterations: 1351; target words data: 241/500, generic data: 290/500, data written: 531\n",
            "iterations: 1401; target words data: 246/500, generic data: 296/500, data written: 542\n",
            "iterations: 1451; target words data: 254/500, generic data: 305/500, data written: 559\n",
            "iterations: 1501; target words data: 260/500, generic data: 313/500, data written: 573\n",
            "iterations: 1551; target words data: 269/500, generic data: 323/500, data written: 592\n",
            "iterations: 1601; target words data: 281/500, generic data: 338/500, data written: 619\n",
            "iterations: 1651; target words data: 293/500, generic data: 352/500, data written: 645\n",
            "iterations: 1701; target words data: 301/500, generic data: 362/500, data written: 663\n",
            "iterations: 1751; target words data: 309/500, generic data: 371/500, data written: 680\n",
            "iterations: 1801; target words data: 316/500, generic data: 380/500, data written: 696\n",
            "iterations: 1851; target words data: 324/500, generic data: 389/500, data written: 713\n",
            "iterations: 1901; target words data: 333/500, generic data: 399/500, data written: 732\n",
            "iterations: 1951; target words data: 343/500, generic data: 412/500, data written: 755\n",
            "iterations: 2001; target words data: 350/500, generic data: 421/500, data written: 771\n",
            "iterations: 2051; target words data: 363/500, generic data: 436/500, data written: 799\n",
            "iterations: 2101; target words data: 374/500, generic data: 449/500, data written: 823\n",
            "iterations: 2151; target words data: 382/500, generic data: 458/500, data written: 840\n",
            "iterations: 2201; target words data: 393/500, generic data: 472/500, data written: 865\n",
            "iterations: 2251; target words data: 401/500, generic data: 481/500, data written: 882\n",
            "iterations: 2301; target words data: 410/500, generic data: 493/500, data written: 903\n",
            "iterations: 2351; target words data: 423/500, generic data: 508/500, data written: 931\n",
            "iterations: 2401; target words data: 433/500, generic data: 520/500, data written: 953\n",
            "iterations: 2451; target words data: 443/500, generic data: 532/500, data written: 975\n",
            "iterations: 2501; target words data: 451/500, generic data: 542/500, data written: 993\n",
            " \n",
            "done\n"
          ]
        }
      ],
      "source": [
        "if construct:\n",
        "    construct_data = NPIDatasetConstructor(config_induction)\n",
        "    construct_data.construct_target_word_dataset(\"../../smaller_wiki_books_reddit_shuffled.txt\", num_sentences=1000) \n"
      ]
    },
    {
      "cell_type": "markdown",
      "metadata": {
        "id": "yXWpcynGEiBx"
      },
      "source": [
        "## Train classifier from Dataset\n",
        "\n"
      ]
    },
    {
      "cell_type": "code",
      "execution_count": 9,
      "metadata": {
        "id": "QgooQZnZEiBy"
      },
      "outputs": [
        {
          "name": "stdout",
          "output_type": "stream",
          "text": [
            "Classifier INIT\n",
            "Defining classifier model\n",
            "Loading style_model weights from models/npi_models/cat_induction_style_model_004.pth\n",
            "Initializing class loss\n",
            "Training\n"
          ]
        },
        {
          "name": "stderr",
          "output_type": "stream",
          "text": [
            "epoch: 0 train_loss=10759227.05 test_loss=14135949.56 test_accuracy=0.95:  98%|█████████▊| 146/149 [01:14<00:01,  2.02it/s]"
          ]
        },
        {
          "name": "stdout",
          "output_type": "stream",
          "text": [
            "Saving Style Classifier epoch 0\n"
          ]
        },
        {
          "name": "stderr",
          "output_type": "stream",
          "text": [
            "                                                                                                                           "
          ]
        },
        {
          "name": "stdout",
          "output_type": "stream",
          "text": [
            "Saving Style Classifier epoch 4\n",
            "Epoch train loss history ==  [10651556.02375, 5462318.7125, 3495854.1929166666, 2694482.1910416665, 1686640.0747916666]\n"
          ]
        },
        {
          "name": "stderr",
          "output_type": "stream",
          "text": [
            "\r"
          ]
        }
      ],
      "source": [
        "model_loader = NPITrainingModels(config_induction)\n",
        "dataset_loader = NPIDatasetLoader(config_induction, target=\"style\")\n",
        "style_trainer = NPIStyleTrainer(config_induction, class_lr=1e-5)\n",
        "classifier = None\n",
        "if train_class:\n",
        "    classifier = style_trainer.train_classifier(\n",
        "        model_loader,\n",
        "        dataset_loader,\n",
        "        num_epochs=5,\n",
        "        #continue_epoch=4,  # Set epoch of classifier to load to continue training.\n",
        "    )\n"
      ]
    },
    {
      "cell_type": "markdown",
      "metadata": {
        "id": "jz2o83DCEiBy"
      },
      "source": [
        "### Test Classifier\n"
      ]
    },
    {
      "cell_type": "code",
      "execution_count": 10,
      "metadata": {
        "colab": {
          "base_uri": "https://localhost:8080/"
        },
        "id": "EkTIcEWnEiBy",
        "outputId": "6e4a0893-7994-4113-ca95-e086a56f7a67"
      },
      "outputs": [
        {
          "data": {
            "text/plain": [
              "(11598677.56125, 0.96)"
            ]
          },
          "execution_count": 10,
          "metadata": {},
          "output_type": "execute_result"
        }
      ],
      "source": [
        "_, test_loader, _, _ = dataset_loader.load_train_and_test_dataloaders()\n",
        "\n",
        "classifier = model_loader.load_style_classifier() if not classifier else classifier\n",
        "# When output=True, it will log the following in models/npi_models/style_classifier_output.log:\n",
        "#   (generated text from the dataset)\n",
        "#   truth={target_label} actual={model_output}\n",
        "style_trainer.test_model(test_loader, classifier, torch.nn.BCELoss(), output=True)\n"
      ]
    },
    {
      "cell_type": "markdown",
      "metadata": {
        "id": "vH-dlXcQEiBz"
      },
      "source": [
        "## Training NPI"
      ]
    },
    {
      "cell_type": "code",
      "execution_count": 6,
      "metadata": {},
      "outputs": [],
      "source": [
        "%load_ext pytorch_memlab"
      ]
    },
    {
      "cell_type": "code",
      "execution_count": 6,
      "metadata": {
        "id": "O6oi0MflEiB0"
      },
      "outputs": [
        {
          "name": "stdout",
          "output_type": "stream",
          "text": [
            "NPI INITIALIZATION\n",
            "GenerationClassifier INIT\n",
            "Defining GenerationClassifier model\n",
            "Classifier INIT\n",
            "Defining classifier model\n",
            "Loading style_model weights from models/npi_models/cat_induction_style_model_004.pth\n",
            "Initializing GPT2WithNPI model with tokenizer -- not being placed on GPU until npi loss evaluation\n",
            "Training\n"
          ]
        },
        {
          "name": "stderr",
          "output_type": "stream",
          "text": [
            "epoch:0, gen_class_loss:13861.38, npi_loss:243329.66: 100%|██████████| 187/187 [02:07<00:00,  1.47it/s]"
          ]
        },
        {
          "name": "stdout",
          "output_type": "stream",
          "text": [
            "Testing\n",
            "Saving NPI Model\n",
            "Saving GenerationClassifier Model\n"
          ]
        },
        {
          "name": "stderr",
          "output_type": "stream",
          "text": [
            "epoch:5, gen_class_loss:13648.05, npi_loss:168336.50: 100%|██████████| 187/187 [02:09<00:00,  1.45it/s]"
          ]
        },
        {
          "name": "stdout",
          "output_type": "stream",
          "text": [
            "Testing\n"
          ]
        },
        {
          "name": "stderr",
          "output_type": "stream",
          "text": [
            "                                                                                                       \r"
          ]
        },
        {
          "data": {
            "image/png": "[encoded data removed]",
            "text/plain": [
              "<Figure size 432x288 with 1 Axes>"
            ]
          },
          "metadata": {
            "needs_background": "light"
          },
          "output_type": "display_data"
        },
        {
          "data": {
            "image/png": "[encoded data removed]",
            "text/plain": [
              "<Figure size 432x288 with 1 Axes>"
            ]
          },
          "metadata": {
            "needs_background": "light"
          },
          "output_type": "display_data"
        },
        {
          "data": {
            "image/png": "[encoded data removed]",
            "text/plain": [
              "<Figure size 432x288 with 1 Axes>"
            ]
          },
          "metadata": {
            "needs_background": "light"
          },
          "output_type": "display_data"
        }
      ],
      "source": [
        "# %%mlrun \n",
        "# from pytorch_memlab import profile, set_target_gpu\n",
        "# set_target_gpu(1)\n",
        "num_epochs = 6\n",
        "split_ratio = 0.25\n",
        "batch_size = 4\n",
        "headstart = 0  # set at 0 for debugging\n",
        "\n",
        "if train_npi:\n",
        "    trainer = NPITrainer(config_induction, batch_size=batch_size, headstart=headstart)\n",
        "    dataset_loader = NPIDatasetLoader(config_induction, split_ratio=split_ratio)\n",
        "    trainer.train_adversarial_npi(models, num_epochs, dataset_loader)\n"
      ]
    },
    {
      "cell_type": "code",
      "execution_count": 7,
      "metadata": {},
      "outputs": [
        {
          "name": "stdout",
          "output_type": "stream",
          "text": [
            "Element type                                            Size  Used MEM\n",
            "-------------------------------------------------------------------------------\n",
            "Storage on cuda:0\n",
            "npi_model.first_linear.0.weight                 (50, 153600)    29.30M\n",
            "npi_model.first_linear.0.weight.grad            (50, 153600)    29.30M\n",
            "npi_model.first_linear.0.bias                          (50,)   512.00B\n",
            "npi_model.first_linear.0.bias.grad                     (50,)   512.00B\n",
            "npi_model.second_linear.0.weight                    (50, 50)    10.00K\n",
            "npi_model.second_linear.0.weight.grad               (50, 50)    10.00K\n",
            "npi_model.second_linear.0.bias                         (50,)   512.00B\n",
            "npi_model.second_linear.0.bias.grad                    (50,)   512.00B\n",
            "npi_model.third_linear.0.weight                     (25, 50)     5.00K\n",
            "npi_model.third_linear.0.weight.grad                (25, 50)     5.00K\n",
            "npi_model.third_linear.0.bias                          (25,)   512.00B\n",
            "npi_model.third_linear.0.bias.grad                     (25,)   512.00B\n",
            "npi_model.fourth_linear.0.weight                    (25, 25)     2.50K\n",
            "npi_model.fourth_linear.0.weight.grad               (25, 25)     2.50K\n",
            "npi_model.fourth_linear.0.bias                         (25,)   512.00B\n",
            "npi_model.fourth_linear.0.bias.grad                    (25,)   512.00B\n",
            "npi_model.fourth_linear_residual.0.weight            (25, 25)     2.50K\n",
            "npi_model.fourth_linear_residual.0.weight.grad            (25, 25)     2.50K\n",
            "npi_model.fourth_linear_residual.0.bias                (25,)   512.00B\n",
            "npi_model.fourth_linear_residual.0.bias.grad               (25,)   512.00B\n",
            "npi_model.fifth_linear.0.weight                     (25, 25)     2.50K\n",
            "npi_model.fifth_linear.0.weight.grad                (25, 25)     2.50K\n",
            "npi_model.fifth_linear.0.bias                          (25,)   512.00B\n",
            "npi_model.fifth_linear.0.bias.grad                     (25,)   512.00B\n",
            "npi_model.sixth_linear.0.weight                     (50, 25)     5.00K\n",
            "npi_model.sixth_linear.0.weight.grad                (50, 25)     5.00K\n",
            "npi_model.sixth_linear.0.bias                          (50,)   512.00B\n",
            "npi_model.sixth_linear.0.bias.grad                     (50,)   512.00B\n",
            "npi_model.seventh_linear.0.weight                   (50, 50)    10.00K\n",
            "npi_model.seventh_linear.0.weight.grad              (50, 50)    10.00K\n",
            "npi_model.seventh_linear.0.bias                        (50,)   512.00B\n",
            "npi_model.seventh_linear.0.bias.grad                   (50,)   512.00B\n",
            "npi_model.last_linear.0.weight                  (153600, 50)    29.30M\n",
            "npi_model.last_linear.0.weight.grad             (153600, 50)    29.30M\n",
            "npi_model.last_linear.0.bias                       (153600,)   600.00K\n",
            "npi_model.last_linear.0.bias.grad                  (153600,)   600.00K\n",
            "Parameter320                                    (25, 153600)    14.65M\n",
            "Parameter320.grad                               (25, 153600)    14.65M\n",
            "Parameter321                                           (25,)   512.00B\n",
            "Parameter321.grad                                      (25,)   512.00B\n",
            "Parameter322                                        (25, 25)     2.50K\n",
            "Parameter322.grad                                   (25, 25)     2.50K\n",
            "Parameter323                                           (25,)   512.00B\n",
            "Parameter323.grad                                      (25,)   512.00B\n",
            "Parameter324                                        (12, 25)     1.50K\n",
            "Parameter324.grad                                   (12, 25)     1.50K\n",
            "Parameter325                                           (12,)   512.00B\n",
            "Parameter325.grad                                      (12,)   512.00B\n",
            "Parameter326                                        (12, 12)     1.00K\n",
            "Parameter326.grad                                   (12, 12)     1.00K\n",
            "Parameter327                                           (12,)   512.00B\n",
            "Parameter327.grad                                      (12,)   512.00B\n",
            "Parameter328                                         (6, 12)   512.00B\n",
            "Parameter328.grad                                    (6, 12)   512.00B\n",
            "Parameter329                                            (6,)   512.00B\n",
            "Parameter329.grad                                       (6,)   512.00B\n",
            "Parameter330                                          (6, 6)   512.00B\n",
            "Parameter330.grad                                     (6, 6)   512.00B\n",
            "Parameter331                                            (6,)   512.00B\n",
            "Parameter331.grad                                       (6,)   512.00B\n",
            "Parameter332                                          (1, 6)   512.00B\n",
            "Parameter332.grad                                     (1, 6)   512.00B\n",
            "Parameter333                                            (1,)   512.00B\n",
            "Parameter333.grad                                       (1,)   512.00B\n",
            "Parameter334                                    (12, 153600)     7.03M\n",
            "Parameter334.grad                               (12, 153600)     7.03M\n",
            "Parameter335                                           (12,)   512.00B\n",
            "Parameter335.grad                                      (12,)   512.00B\n",
            "Parameter336                                         (6, 12)   512.00B\n",
            "Parameter336.grad                                    (6, 12)   512.00B\n",
            "Parameter337                                            (6,)   512.00B\n",
            "Parameter337.grad                                       (6,)   512.00B\n",
            "Parameter338                                          (3, 6)   512.00B\n",
            "Parameter338.grad                                     (3, 6)   512.00B\n",
            "Parameter339                                            (3,)   512.00B\n",
            "Parameter339.grad                                       (3,)   512.00B\n",
            "Parameter340                                          (1, 3)   512.00B\n",
            "Parameter340.grad                                     (1, 3)   512.00B\n",
            "Parameter341                                            (1,)   512.00B\n",
            "Parameter341.grad                                       (1,)   512.00B\n",
            "transformer.wte.weight                          (50257, 768)   147.24M\n",
            "transformer.wte.weight.grad                     (50257, 768)   147.24M\n",
            "transformer.wpe.weight                           (1024, 768)     3.00M\n",
            "transformer.wpe.weight.grad                      (1024, 768)     3.00M\n",
            "transformer.ln_f.weight                               (768,)     3.00K\n",
            "transformer.ln_f.bias                                 (768,)     3.00K\n",
            "transformer.h.11.ln_1.weight                          (768,)     3.00K\n",
            "transformer.h.11.ln_1.bias                            (768,)     3.00K\n",
            "transformer.h.11.ln_2.weight                          (768,)     3.00K\n",
            "transformer.h.11.ln_2.bias                            (768,)     3.00K\n",
            "transformer.h.11.attn.c_attn.weight              (768, 2304)     6.75M\n",
            "transformer.h.11.attn.c_attn.bias                    (2304,)     9.00K\n",
            "transformer.h.11.attn.c_proj.weight               (768, 768)     2.25M\n",
            "transformer.h.11.attn.c_proj.bias                     (768,)     3.00K\n",
            "transformer.h.11.mlp.c_fc.weight                 (768, 3072)     9.00M\n",
            "transformer.h.11.mlp.c_fc.bias                       (3072,)    12.00K\n",
            "transformer.h.11.mlp.c_proj.weight               (3072, 768)     9.00M\n",
            "transformer.h.11.mlp.c_proj.bias                      (768,)     3.00K\n",
            "lm_head.weight                                  (50257, 768)   147.24M\n",
            "transformer.h.0.ln_1.weight                           (768,)     3.00K\n",
            "transformer.h.0.ln_1.weight.grad                      (768,)     3.00K\n",
            "transformer.h.0.ln_1.bias                             (768,)     3.00K\n",
            "transformer.h.0.ln_1.bias.grad                        (768,)     3.00K\n",
            "transformer.h.0.ln_2.weight                           (768,)     3.00K\n",
            "transformer.h.0.ln_2.weight.grad                      (768,)     3.00K\n",
            "transformer.h.0.ln_2.bias                             (768,)     3.00K\n",
            "transformer.h.0.ln_2.bias.grad                        (768,)     3.00K\n",
            "transformer.h.1.ln_1.weight                           (768,)     3.00K\n",
            "transformer.h.1.ln_1.weight.grad                      (768,)     3.00K\n",
            "transformer.h.1.ln_1.bias                             (768,)     3.00K\n",
            "transformer.h.1.ln_1.bias.grad                        (768,)     3.00K\n",
            "transformer.h.1.ln_2.weight                           (768,)     3.00K\n",
            "transformer.h.1.ln_2.weight.grad                      (768,)     3.00K\n",
            "transformer.h.1.ln_2.bias                             (768,)     3.00K\n",
            "transformer.h.1.ln_2.bias.grad                        (768,)     3.00K\n",
            "transformer.h.2.ln_1.weight                           (768,)     3.00K\n",
            "transformer.h.2.ln_1.weight.grad                      (768,)     3.00K\n",
            "transformer.h.2.ln_1.bias                             (768,)     3.00K\n",
            "transformer.h.2.ln_1.bias.grad                        (768,)     3.00K\n",
            "transformer.h.2.ln_2.weight                           (768,)     3.00K\n",
            "transformer.h.2.ln_2.weight.grad                      (768,)     3.00K\n",
            "transformer.h.2.ln_2.bias                             (768,)     3.00K\n",
            "transformer.h.2.ln_2.bias.grad                        (768,)     3.00K\n",
            "transformer.h.3.ln_1.weight                           (768,)     3.00K\n",
            "transformer.h.3.ln_1.weight.grad                      (768,)     3.00K\n",
            "transformer.h.3.ln_1.bias                             (768,)     3.00K\n",
            "transformer.h.3.ln_1.bias.grad                        (768,)     3.00K\n",
            "transformer.h.3.ln_2.weight                           (768,)     3.00K\n",
            "transformer.h.3.ln_2.weight.grad                      (768,)     3.00K\n",
            "transformer.h.3.ln_2.bias                             (768,)     3.00K\n",
            "transformer.h.3.ln_2.bias.grad                        (768,)     3.00K\n",
            "transformer.h.4.ln_1.weight                           (768,)     3.00K\n",
            "transformer.h.4.ln_1.weight.grad                      (768,)     3.00K\n",
            "transformer.h.4.ln_1.bias                             (768,)     3.00K\n",
            "transformer.h.4.ln_1.bias.grad                        (768,)     3.00K\n",
            "transformer.h.4.ln_2.weight                           (768,)     3.00K\n",
            "transformer.h.4.ln_2.weight.grad                      (768,)     3.00K\n",
            "transformer.h.4.ln_2.bias                             (768,)     3.00K\n",
            "transformer.h.4.ln_2.bias.grad                        (768,)     3.00K\n",
            "transformer.h.5.ln_1.weight                           (768,)     3.00K\n",
            "transformer.h.5.ln_1.weight.grad                      (768,)     3.00K\n",
            "transformer.h.5.ln_1.bias                             (768,)     3.00K\n",
            "transformer.h.5.ln_1.bias.grad                        (768,)     3.00K\n",
            "transformer.h.5.ln_2.weight                           (768,)     3.00K\n",
            "transformer.h.5.ln_2.weight.grad                      (768,)     3.00K\n",
            "transformer.h.5.ln_2.bias                             (768,)     3.00K\n",
            "transformer.h.5.ln_2.bias.grad                        (768,)     3.00K\n",
            "transformer.h.6.ln_1.weight                           (768,)     3.00K\n",
            "transformer.h.6.ln_1.weight.grad                      (768,)     3.00K\n",
            "transformer.h.6.ln_1.bias                             (768,)     3.00K\n",
            "transformer.h.6.ln_1.bias.grad                        (768,)     3.00K\n",
            "transformer.h.6.ln_2.weight                           (768,)     3.00K\n",
            "transformer.h.6.ln_2.weight.grad                      (768,)     3.00K\n",
            "transformer.h.6.ln_2.bias                             (768,)     3.00K\n",
            "transformer.h.6.ln_2.bias.grad                        (768,)     3.00K\n",
            "transformer.h.7.ln_1.weight                           (768,)     3.00K\n",
            "transformer.h.7.ln_1.weight.grad                      (768,)     3.00K\n",
            "transformer.h.7.ln_1.bias                             (768,)     3.00K\n",
            "transformer.h.7.ln_1.bias.grad                        (768,)     3.00K\n",
            "transformer.h.7.ln_2.weight                           (768,)     3.00K\n",
            "transformer.h.7.ln_2.weight.grad                      (768,)     3.00K\n",
            "transformer.h.7.ln_2.bias                             (768,)     3.00K\n",
            "transformer.h.7.ln_2.bias.grad                        (768,)     3.00K\n",
            "transformer.h.8.ln_1.weight                           (768,)     3.00K\n",
            "transformer.h.8.ln_1.weight.grad                      (768,)     3.00K\n",
            "transformer.h.8.ln_1.bias                             (768,)     3.00K\n",
            "transformer.h.8.ln_1.bias.grad                        (768,)     3.00K\n",
            "transformer.h.8.ln_2.weight                           (768,)     3.00K\n",
            "transformer.h.8.ln_2.weight.grad                      (768,)     3.00K\n",
            "transformer.h.8.ln_2.bias                             (768,)     3.00K\n",
            "transformer.h.8.ln_2.bias.grad                        (768,)     3.00K\n",
            "transformer.h.9.ln_1.weight                           (768,)     3.00K\n",
            "transformer.h.9.ln_1.weight.grad                      (768,)     3.00K\n",
            "transformer.h.9.ln_1.bias                             (768,)     3.00K\n",
            "transformer.h.9.ln_1.bias.grad                        (768,)     3.00K\n",
            "transformer.h.9.ln_2.weight                           (768,)     3.00K\n",
            "transformer.h.9.ln_2.weight.grad                      (768,)     3.00K\n",
            "transformer.h.9.ln_2.bias                             (768,)     3.00K\n",
            "transformer.h.9.ln_2.bias.grad                        (768,)     3.00K\n",
            "transformer.h.10.ln_1.weight                          (768,)     3.00K\n",
            "transformer.h.10.ln_1.weight.grad                     (768,)     3.00K\n",
            "transformer.h.10.ln_1.bias                            (768,)     3.00K\n",
            "transformer.h.10.ln_1.bias.grad                       (768,)     3.00K\n",
            "transformer.h.10.ln_2.weight                          (768,)     3.00K\n",
            "transformer.h.10.ln_2.weight.grad                     (768,)     3.00K\n",
            "transformer.h.10.ln_2.bias                            (768,)     3.00K\n",
            "transformer.h.10.ln_2.bias.grad                       (768,)     3.00K\n",
            "transformer.h.0.attn.c_attn.weight               (768, 2304)     6.75M\n",
            "transformer.h.0.attn.c_attn.weight.grad          (768, 2304)     6.75M\n",
            "transformer.h.0.attn.c_attn.bias                     (2304,)     9.00K\n",
            "transformer.h.0.attn.c_attn.bias.grad                (2304,)     9.00K\n",
            "transformer.h.0.attn.c_proj.weight                (768, 768)     2.25M\n",
            "transformer.h.0.attn.c_proj.weight.grad           (768, 768)     2.25M\n",
            "transformer.h.0.attn.c_proj.bias                      (768,)     3.00K\n",
            "transformer.h.0.attn.c_proj.bias.grad                 (768,)     3.00K\n",
            "transformer.h.0.mlp.c_fc.weight                  (768, 3072)     9.00M\n",
            "transformer.h.0.mlp.c_fc.weight.grad             (768, 3072)     9.00M\n",
            "transformer.h.0.mlp.c_fc.bias                        (3072,)    12.00K\n",
            "transformer.h.0.mlp.c_fc.bias.grad                   (3072,)    12.00K\n",
            "transformer.h.0.mlp.c_proj.weight                (3072, 768)     9.00M\n",
            "transformer.h.0.mlp.c_proj.weight.grad           (3072, 768)     9.00M\n",
            "transformer.h.0.mlp.c_proj.bias                       (768,)     3.00K\n",
            "transformer.h.0.mlp.c_proj.bias.grad                  (768,)     3.00K\n",
            "transformer.h.1.attn.c_attn.weight               (768, 2304)     6.75M\n",
            "transformer.h.1.attn.c_attn.weight.grad          (768, 2304)     6.75M\n",
            "transformer.h.1.attn.c_attn.bias                     (2304,)     9.00K\n",
            "transformer.h.1.attn.c_attn.bias.grad                (2304,)     9.00K\n",
            "transformer.h.1.attn.c_proj.weight                (768, 768)     2.25M\n",
            "transformer.h.1.attn.c_proj.weight.grad           (768, 768)     2.25M\n",
            "transformer.h.1.attn.c_proj.bias                      (768,)     3.00K\n",
            "transformer.h.1.attn.c_proj.bias.grad                 (768,)     3.00K\n",
            "transformer.h.1.mlp.c_fc.weight                  (768, 3072)     9.00M\n",
            "transformer.h.1.mlp.c_fc.weight.grad             (768, 3072)     9.00M\n",
            "transformer.h.1.mlp.c_fc.bias                        (3072,)    12.00K\n",
            "transformer.h.1.mlp.c_fc.bias.grad                   (3072,)    12.00K\n",
            "transformer.h.1.mlp.c_proj.weight                (3072, 768)     9.00M\n",
            "transformer.h.1.mlp.c_proj.weight.grad           (3072, 768)     9.00M\n",
            "transformer.h.1.mlp.c_proj.bias                       (768,)     3.00K\n",
            "transformer.h.1.mlp.c_proj.bias.grad                  (768,)     3.00K\n",
            "transformer.h.2.attn.c_attn.weight               (768, 2304)     6.75M\n",
            "transformer.h.2.attn.c_attn.weight.grad          (768, 2304)     6.75M\n",
            "transformer.h.2.attn.c_attn.bias                     (2304,)     9.00K\n",
            "transformer.h.2.attn.c_attn.bias.grad                (2304,)     9.00K\n",
            "transformer.h.2.attn.c_proj.weight                (768, 768)     2.25M\n",
            "transformer.h.2.attn.c_proj.weight.grad           (768, 768)     2.25M\n",
            "transformer.h.2.attn.c_proj.bias                      (768,)     3.00K\n",
            "transformer.h.2.attn.c_proj.bias.grad                 (768,)     3.00K\n",
            "transformer.h.2.mlp.c_fc.weight                  (768, 3072)     9.00M\n",
            "transformer.h.2.mlp.c_fc.weight.grad             (768, 3072)     9.00M\n",
            "transformer.h.2.mlp.c_fc.bias                        (3072,)    12.00K\n",
            "transformer.h.2.mlp.c_fc.bias.grad                   (3072,)    12.00K\n",
            "transformer.h.2.mlp.c_proj.weight                (3072, 768)     9.00M\n",
            "transformer.h.2.mlp.c_proj.weight.grad           (3072, 768)     9.00M\n",
            "transformer.h.2.mlp.c_proj.bias                       (768,)     3.00K\n",
            "transformer.h.2.mlp.c_proj.bias.grad                  (768,)     3.00K\n",
            "transformer.h.3.attn.c_attn.weight               (768, 2304)     6.75M\n",
            "transformer.h.3.attn.c_attn.weight.grad          (768, 2304)     6.75M\n",
            "transformer.h.3.attn.c_attn.bias                     (2304,)     9.00K\n",
            "transformer.h.3.attn.c_attn.bias.grad                (2304,)     9.00K\n",
            "transformer.h.3.attn.c_proj.weight                (768, 768)     2.25M\n",
            "transformer.h.3.attn.c_proj.weight.grad           (768, 768)     2.25M\n",
            "transformer.h.3.attn.c_proj.bias                      (768,)     3.00K\n",
            "transformer.h.3.attn.c_proj.bias.grad                 (768,)     3.00K\n",
            "transformer.h.3.mlp.c_fc.weight                  (768, 3072)     9.00M\n",
            "transformer.h.3.mlp.c_fc.weight.grad             (768, 3072)     9.00M\n",
            "transformer.h.3.mlp.c_fc.bias                        (3072,)    12.00K\n",
            "transformer.h.3.mlp.c_fc.bias.grad                   (3072,)    12.00K\n",
            "transformer.h.3.mlp.c_proj.weight                (3072, 768)     9.00M\n",
            "transformer.h.3.mlp.c_proj.weight.grad           (3072, 768)     9.00M\n",
            "transformer.h.3.mlp.c_proj.bias                       (768,)     3.00K\n",
            "transformer.h.3.mlp.c_proj.bias.grad                  (768,)     3.00K\n",
            "transformer.h.4.attn.c_attn.weight               (768, 2304)     6.75M\n",
            "transformer.h.4.attn.c_attn.weight.grad          (768, 2304)     6.75M\n",
            "transformer.h.4.attn.c_attn.bias                     (2304,)     9.00K\n",
            "transformer.h.4.attn.c_attn.bias.grad                (2304,)     9.00K\n",
            "transformer.h.4.attn.c_proj.weight                (768, 768)     2.25M\n",
            "transformer.h.4.attn.c_proj.weight.grad           (768, 768)     2.25M\n",
            "transformer.h.4.attn.c_proj.bias                      (768,)     3.00K\n",
            "transformer.h.4.attn.c_proj.bias.grad                 (768,)     3.00K\n",
            "transformer.h.4.mlp.c_fc.weight                  (768, 3072)     9.00M\n",
            "transformer.h.4.mlp.c_fc.weight.grad             (768, 3072)     9.00M\n",
            "transformer.h.4.mlp.c_fc.bias                        (3072,)    12.00K\n",
            "transformer.h.4.mlp.c_fc.bias.grad                   (3072,)    12.00K\n",
            "transformer.h.4.mlp.c_proj.weight                (3072, 768)     9.00M\n",
            "transformer.h.4.mlp.c_proj.weight.grad           (3072, 768)     9.00M\n",
            "transformer.h.4.mlp.c_proj.bias                       (768,)     3.00K\n",
            "transformer.h.4.mlp.c_proj.bias.grad                  (768,)     3.00K\n",
            "transformer.h.5.attn.c_attn.weight               (768, 2304)     6.75M\n",
            "transformer.h.5.attn.c_attn.weight.grad          (768, 2304)     6.75M\n",
            "transformer.h.5.attn.c_attn.bias                     (2304,)     9.00K\n",
            "transformer.h.5.attn.c_attn.bias.grad                (2304,)     9.00K\n",
            "transformer.h.5.attn.c_proj.weight                (768, 768)     2.25M\n",
            "transformer.h.5.attn.c_proj.weight.grad           (768, 768)     2.25M\n",
            "transformer.h.5.attn.c_proj.bias                      (768,)     3.00K\n",
            "transformer.h.5.attn.c_proj.bias.grad                 (768,)     3.00K\n",
            "transformer.h.5.mlp.c_fc.weight                  (768, 3072)     9.00M\n",
            "transformer.h.5.mlp.c_fc.weight.grad             (768, 3072)     9.00M\n",
            "transformer.h.5.mlp.c_fc.bias                        (3072,)    12.00K\n",
            "transformer.h.5.mlp.c_fc.bias.grad                   (3072,)    12.00K\n",
            "transformer.h.5.mlp.c_proj.weight                (3072, 768)     9.00M\n",
            "transformer.h.5.mlp.c_proj.weight.grad           (3072, 768)     9.00M\n",
            "transformer.h.5.mlp.c_proj.bias                       (768,)     3.00K\n",
            "transformer.h.5.mlp.c_proj.bias.grad                  (768,)     3.00K\n",
            "transformer.h.6.attn.c_attn.weight               (768, 2304)     6.75M\n",
            "transformer.h.6.attn.c_attn.weight.grad          (768, 2304)     6.75M\n",
            "transformer.h.6.attn.c_attn.bias                     (2304,)     9.00K\n",
            "transformer.h.6.attn.c_attn.bias.grad                (2304,)     9.00K\n",
            "transformer.h.6.attn.c_proj.weight                (768, 768)     2.25M\n",
            "transformer.h.6.attn.c_proj.weight.grad           (768, 768)     2.25M\n",
            "transformer.h.6.attn.c_proj.bias                      (768,)     3.00K\n",
            "transformer.h.6.attn.c_proj.bias.grad                 (768,)     3.00K\n",
            "transformer.h.6.mlp.c_fc.weight                  (768, 3072)     9.00M\n",
            "transformer.h.6.mlp.c_fc.weight.grad             (768, 3072)     9.00M\n",
            "transformer.h.6.mlp.c_fc.bias                        (3072,)    12.00K\n",
            "transformer.h.6.mlp.c_fc.bias.grad                   (3072,)    12.00K\n",
            "transformer.h.6.mlp.c_proj.weight                (3072, 768)     9.00M\n",
            "transformer.h.6.mlp.c_proj.weight.grad           (3072, 768)     9.00M\n",
            "transformer.h.6.mlp.c_proj.bias                       (768,)     3.00K\n",
            "transformer.h.6.mlp.c_proj.bias.grad                  (768,)     3.00K\n",
            "transformer.h.7.attn.c_attn.weight               (768, 2304)     6.75M\n",
            "transformer.h.7.attn.c_attn.weight.grad          (768, 2304)     6.75M\n",
            "transformer.h.7.attn.c_attn.bias                     (2304,)     9.00K\n",
            "transformer.h.7.attn.c_attn.bias.grad                (2304,)     9.00K\n",
            "transformer.h.7.attn.c_proj.weight                (768, 768)     2.25M\n",
            "transformer.h.7.attn.c_proj.weight.grad           (768, 768)     2.25M\n",
            "transformer.h.7.attn.c_proj.bias                      (768,)     3.00K\n",
            "transformer.h.7.attn.c_proj.bias.grad                 (768,)     3.00K\n",
            "transformer.h.7.mlp.c_fc.weight                  (768, 3072)     9.00M\n",
            "transformer.h.7.mlp.c_fc.weight.grad             (768, 3072)     9.00M\n",
            "transformer.h.7.mlp.c_fc.bias                        (3072,)    12.00K\n",
            "transformer.h.7.mlp.c_fc.bias.grad                   (3072,)    12.00K\n",
            "transformer.h.7.mlp.c_proj.weight                (3072, 768)     9.00M\n",
            "transformer.h.7.mlp.c_proj.weight.grad           (3072, 768)     9.00M\n",
            "transformer.h.7.mlp.c_proj.bias                       (768,)     3.00K\n",
            "transformer.h.7.mlp.c_proj.bias.grad                  (768,)     3.00K\n",
            "transformer.h.8.attn.c_attn.weight               (768, 2304)     6.75M\n",
            "transformer.h.8.attn.c_attn.weight.grad          (768, 2304)     6.75M\n",
            "transformer.h.8.attn.c_attn.bias                     (2304,)     9.00K\n",
            "transformer.h.8.attn.c_attn.bias.grad                (2304,)     9.00K\n",
            "transformer.h.8.attn.c_proj.weight                (768, 768)     2.25M\n",
            "transformer.h.8.attn.c_proj.weight.grad           (768, 768)     2.25M\n",
            "transformer.h.8.attn.c_proj.bias                      (768,)     3.00K\n",
            "transformer.h.8.attn.c_proj.bias.grad                 (768,)     3.00K\n",
            "transformer.h.8.mlp.c_fc.weight                  (768, 3072)     9.00M\n",
            "transformer.h.8.mlp.c_fc.weight.grad             (768, 3072)     9.00M\n",
            "transformer.h.8.mlp.c_fc.bias                        (3072,)    12.00K\n",
            "transformer.h.8.mlp.c_fc.bias.grad                   (3072,)    12.00K\n",
            "transformer.h.8.mlp.c_proj.weight                (3072, 768)     9.00M\n",
            "transformer.h.8.mlp.c_proj.weight.grad           (3072, 768)     9.00M\n",
            "transformer.h.8.mlp.c_proj.bias                       (768,)     3.00K\n",
            "transformer.h.8.mlp.c_proj.bias.grad                  (768,)     3.00K\n",
            "transformer.h.9.attn.c_attn.weight               (768, 2304)     6.75M\n",
            "transformer.h.9.attn.c_attn.weight.grad          (768, 2304)     6.75M\n",
            "transformer.h.9.attn.c_attn.bias                     (2304,)     9.00K\n",
            "transformer.h.9.attn.c_attn.bias.grad                (2304,)     9.00K\n",
            "transformer.h.9.attn.c_proj.weight                (768, 768)     2.25M\n",
            "transformer.h.9.attn.c_proj.weight.grad           (768, 768)     2.25M\n",
            "transformer.h.9.attn.c_proj.bias                      (768,)     3.00K\n",
            "transformer.h.9.attn.c_proj.bias.grad                 (768,)     3.00K\n",
            "transformer.h.9.mlp.c_fc.weight                  (768, 3072)     9.00M\n",
            "transformer.h.9.mlp.c_fc.weight.grad             (768, 3072)     9.00M\n",
            "transformer.h.9.mlp.c_fc.bias                        (3072,)    12.00K\n",
            "transformer.h.9.mlp.c_fc.bias.grad                   (3072,)    12.00K\n",
            "transformer.h.9.mlp.c_proj.weight                (3072, 768)     9.00M\n",
            "transformer.h.9.mlp.c_proj.weight.grad           (3072, 768)     9.00M\n",
            "transformer.h.9.mlp.c_proj.bias                       (768,)     3.00K\n",
            "transformer.h.9.mlp.c_proj.bias.grad                  (768,)     3.00K\n",
            "transformer.h.10.attn.c_attn.weight              (768, 2304)     6.75M\n",
            "transformer.h.10.attn.c_attn.weight.grad         (768, 2304)     6.75M\n",
            "transformer.h.10.attn.c_attn.bias                    (2304,)     9.00K\n",
            "transformer.h.10.attn.c_attn.bias.grad               (2304,)     9.00K\n",
            "transformer.h.10.attn.c_proj.weight               (768, 768)     2.25M\n",
            "transformer.h.10.attn.c_proj.weight.grad          (768, 768)     2.25M\n",
            "transformer.h.10.attn.c_proj.bias                     (768,)     3.00K\n",
            "transformer.h.10.attn.c_proj.bias.grad                (768,)     3.00K\n",
            "transformer.h.10.mlp.c_fc.weight                 (768, 3072)     9.00M\n",
            "transformer.h.10.mlp.c_fc.weight.grad            (768, 3072)     9.00M\n",
            "transformer.h.10.mlp.c_fc.bias                       (3072,)    12.00K\n",
            "transformer.h.10.mlp.c_fc.bias.grad                  (3072,)    12.00K\n",
            "transformer.h.10.mlp.c_proj.weight               (3072, 768)     9.00M\n",
            "transformer.h.10.mlp.c_proj.weight.grad          (3072, 768)     9.00M\n",
            "transformer.h.10.mlp.c_proj.bias                      (768,)     3.00K\n",
            "transformer.h.10.mlp.c_proj.bias.grad                 (768,)     3.00K\n",
            "Tensor342                                 (1, 1, 1024, 1024)     4.00M\n",
            "Tensor343                                 (1, 1, 1024, 1024)     4.00M\n",
            "Tensor344                                 (1, 1, 1024, 1024)     4.00M\n",
            "Tensor345                                 (1, 1, 1024, 1024)     4.00M\n",
            "Tensor346                                 (1, 1, 1024, 1024)     4.00M\n",
            "Tensor347                                 (1, 1, 1024, 1024)     4.00M\n",
            "Tensor348                                 (1, 1, 1024, 1024)     4.00M\n",
            "Tensor349                                 (1, 1, 1024, 1024)     4.00M\n",
            "Tensor350                                 (1, 1, 1024, 1024)     4.00M\n",
            "Tensor351                                 (1, 1, 1024, 1024)     4.00M\n",
            "Tensor352                                 (1, 1, 1024, 1024)     4.00M\n",
            "Tensor353                                 (1, 1, 1024, 1024)     4.00M\n",
            "Tensor354                                       (25, 153600)    14.65M\n",
            "Tensor355                                              (25,)   512.00B\n",
            "Tensor356                                           (25, 25)     2.50K\n",
            "Tensor357                                              (25,)   512.00B\n",
            "Tensor358                                           (12, 25)     1.50K\n",
            "Tensor359                                              (12,)   512.00B\n",
            "Tensor360                                           (12, 12)     1.00K\n",
            "Tensor361                                              (12,)   512.00B\n",
            "Tensor362                                            (6, 12)   512.00B\n",
            "Tensor363                                               (6,)   512.00B\n",
            "Tensor364                                             (6, 6)   512.00B\n",
            "Tensor365                                               (6,)   512.00B\n",
            "Tensor366                                             (1, 6)   512.00B\n",
            "Tensor367                                               (1,)   512.00B\n",
            "Tensor368                                       (50, 153600)    29.30M\n",
            "Tensor369                                              (50,)   512.00B\n",
            "Tensor370                                           (50, 50)    10.00K\n",
            "Tensor371                                              (50,)   512.00B\n",
            "Tensor372                                           (25, 50)     5.00K\n",
            "Tensor373                                              (25,)   512.00B\n",
            "Tensor374                                           (25, 25)     2.50K\n",
            "Tensor375                                              (25,)   512.00B\n",
            "Tensor376                                           (25, 25)     2.50K\n",
            "Tensor377                                              (25,)   512.00B\n",
            "Tensor378                                           (25, 25)     2.50K\n",
            "Tensor379                                              (25,)   512.00B\n",
            "Tensor380                                           (50, 25)     5.00K\n",
            "Tensor381                                              (50,)   512.00B\n",
            "Tensor382                                           (50, 50)    10.00K\n",
            "Tensor383                                              (50,)   512.00B\n",
            "Tensor384                                       (153600, 50)    29.30M\n",
            "Tensor385                                          (153600,)   600.00K\n",
            "Tensor386                                       (25, 153600)    14.65M\n",
            "Tensor387                                              (25,)   512.00B\n",
            "Tensor388                                           (25, 25)     2.50K\n",
            "Tensor389                                              (25,)   512.00B\n",
            "Tensor390                                           (12, 25)     1.50K\n",
            "Tensor391                                              (12,)   512.00B\n",
            "Tensor392                                           (12, 12)     1.00K\n",
            "Tensor393                                              (12,)   512.00B\n",
            "Tensor394                                            (6, 12)   512.00B\n",
            "Tensor395                                               (6,)   512.00B\n",
            "Tensor396                                             (6, 6)   512.00B\n",
            "Tensor397                                               (6,)   512.00B\n",
            "Tensor398                                             (1, 6)   512.00B\n",
            "Tensor399                                               (1,)   512.00B\n",
            "Tensor400                                       (50, 153600)    29.30M\n",
            "Tensor401                                              (50,)   512.00B\n",
            "Tensor402                                           (50, 50)    10.00K\n",
            "Tensor403                                              (50,)   512.00B\n",
            "Tensor404                                           (25, 50)     5.00K\n",
            "Tensor405                                              (25,)   512.00B\n",
            "Tensor406                                           (25, 25)     2.50K\n",
            "Tensor407                                              (25,)   512.00B\n",
            "Tensor408                                           (25, 25)     2.50K\n",
            "Tensor409                                              (25,)   512.00B\n",
            "Tensor410                                           (25, 25)     2.50K\n",
            "Tensor411                                              (25,)   512.00B\n",
            "Tensor412                                           (50, 25)     5.00K\n",
            "Tensor413                                              (50,)   512.00B\n",
            "Tensor414                                           (50, 50)    10.00K\n",
            "Tensor415                                              (50,)   512.00B\n",
            "Tensor416                                       (153600, 50)    29.30M\n",
            "Tensor417                                          (153600,)   600.00K\n",
            "-------------------------------------------------------------------------------\n",
            "Total Tensors: 374115306 \tUsed Memory: 1.39G\n",
            "The allocated memory on cuda:0: 1.40G\n",
            "Memory differs due to the matrix alignment or invisible gradient buffer tensors\n",
            "-------------------------------------------------------------------------------\n"
          ]
        },
        {
          "name": "stderr",
          "output_type": "stream",
          "text": [
            "/home/cs401r/.local/share/virtualenvs/towards-neural-programming-interfaces-UdnRbY7B/lib/python3.8/site-packages/torch/distributed/distributed_c10d.py:102: UserWarning: torch.distributed.reduce_op is deprecated, please use torch.distributed.ReduceOp instead\n",
            "  warnings.warn(\"torch.distributed.reduce_op is deprecated, please use \"\n"
          ]
        }
      ],
      "source": [
        "from pytorch_memlab import MemReporter\n",
        "reporter = MemReporter(models.gpt2_with_npi)\n",
        "reporter.report(device=config_induction.device)"
      ]
    },
    {
      "cell_type": "markdown",
      "metadata": {
        "id": "ZwD1OEyuEiB0"
      },
      "source": [
        "## Test NPI"
      ]
    },
    {
      "cell_type": "markdown",
      "metadata": {
        "id": "M76gOLwSEiB0"
      },
      "source": [
        "Using the model loader, you can directly generate NPI text.\n"
      ]
    },
    {
      "cell_type": "code",
      "execution_count": 13,
      "metadata": {
        "colab": {
          "base_uri": "https://localhost:8080/"
        },
        "id": "-dINaz8IEiB0",
        "outputId": "6bce590f-5510-4fea-c86f-fc5752f9493f"
      },
      "outputs": [
        {
          "name": "stderr",
          "output_type": "stream",
          "text": [
            "Model: GPT 2 Vanilla: 100%|██████████| 100/100 [00:00<00:00, 122.60it/s]"
          ]
        },
        {
          "name": "stdout",
          "output_type": "stream",
          "text": [
            "\n",
            "\n",
            "Original GPT2 output: 'The cat is a great animal. I love it as my pet so much! How about you?'\n",
            "\n",
            "\n",
            "I'm a big fan of the idea of a \"real\" world.\n",
            "\n",
            "The \"real\" world is not the real world.\n",
            "\n",
            "The world is not a perfect place.\n",
            "\n",
            "The world is a better place if you're a good person.\n",
            "\n",
            "\"I'm not going to be able to do that. I think it's a good idea to have a lot of people who are not going to be able to afford to buy a new car.\n",
            "\n",
            "\"\n"
          ]
        },
        {
          "name": "stderr",
          "output_type": "stream",
          "text": [
            "\n"
          ]
        }
      ],
      "source": [
        "text = \"The cat is a great animal. I love it as my pet so much! How about you?\"\n",
        "print(f\"\\nOriginal GPT2 output: '{text}'\\n{models.gpt2_generate_text(text)}\")\n"
      ]
    },
    {
      "cell_type": "code",
      "execution_count": 14,
      "metadata": {
        "colab": {
          "base_uri": "https://localhost:8080/"
        },
        "id": "lqAxiIa_EiB1",
        "outputId": "94875c10-9bb7-49e6-bb89-48a3daeb79c0"
      },
      "outputs": [
        {
          "name": "stderr",
          "output_type": "stream",
          "text": [
            "Model: GPT2 with NPI: 100%|██████████| 100/100 [00:01<00:00, 57.75it/s]"
          ]
        },
        {
          "name": "stdout",
          "output_type": "stream",
          "text": [
            "\n",
            "NPI GPT2 output: 'I hate cats. Can we talk about something else?'\n",
            "\n",
            "\n",
            "I think it's a good idea to have a lot of people who are not going to be able to afford to buy a new car.\n",
            "\n",
            "\"I'm not sure if it's a good idea to use a different name for the same thing.\n",
            "\n",
            "The first thing to do is to get the best possible performance out of your system.\n",
            "\n",
            "The best way to get started is to start with the basics.\n",
            "\n",
            "The first thing you need to do is to install the\n"
          ]
        },
        {
          "name": "stderr",
          "output_type": "stream",
          "text": [
            "\n"
          ]
        }
      ],
      "source": [
        "text = \"I hate cats. Can we talk about something else?\"\n",
        "print(f\"\\nNPI GPT2 output: '{text}'\\n{models.npi_generate_text(text)}\")"
      ]
    }
  ],
  "metadata": {
    "accelerator": "GPU",
    "colab": {
      "include_colab_link": true,
      "name": "politics.ipynb",
      "provenance": []
    },
    "interpreter": {
      "hash": "b53feeeef0abc6b71390ce5a6fde0c401718055bbb2d86de1b9dab62a8ba524e"
    },
    "kernelspec": {
      "display_name": "Python 3.8.0 64-bit ('towards-neural-programming-interfaces-UdnRbY7B': pipenv)",
      "language": "python",
      "name": "python3"
    },
    "language_info": {
      "codemirror_mode": {
        "name": "ipython",
        "version": 3
      },
      "file_extension": ".py",
      "mimetype": "text/x-python",
      "name": "python",
      "nbconvert_exporter": "python",
      "pygments_lexer": "ipython3",
      "version": "3.8.0"
    },
    "orig_nbformat": 4
  },
  "nbformat": 4,
  "nbformat_minor": 0
}
